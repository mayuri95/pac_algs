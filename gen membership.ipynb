{
 "cells": [
  {
   "cell_type": "code",
   "execution_count": 52,
   "id": "6dc03424",
   "metadata": {},
   "outputs": [],
   "source": [
    "import matplotlib.pyplot as plt\n",
    "from math import comb\n",
    "import numpy as np"
   ]
  },
  {
   "cell_type": "code",
   "execution_count": 53,
   "id": "cfeed2ab",
   "metadata": {},
   "outputs": [],
   "source": [
    "# def get_prior(num_to_guess, n):\n",
    "#     return comb(n-num_to_guess, int(n/2.) - num_to_guess) / (comb(n, int(n/2.)))\n",
    "\n",
    "def get_prior_gen_membership(n, k):\n",
    "    pr = 0.\n",
    "    for k_prime in range(k):\n",
    "        pr += comb(n, k_prime)*0.5**n\n",
    "    return 1-pr"
   ]
  },
  {
   "cell_type": "code",
   "execution_count": 54,
   "id": "20e4d6c2",
   "metadata": {},
   "outputs": [
    {
     "name": "stdout",
     "output_type": "stream",
     "text": [
      "[100.0, 100.0, 100.0, 100.0, 100.0, 100.0, 100.0, 100.0, 100.0, 100.0, 100.0, 99.99999999999999, 99.9999999999999, 99.99999999999935, 99.99999999999586, 99.99999999997587, 99.9999999998697, 99.9999999993451, 99.99999999692609, 99.99999998648619, 99.99999994420456, 99.99999978313167, 99.99999920473358, 99.99999724320962, 99.9999909499869, 99.99997181858983, 99.99991663186752, 99.99976537936936, 99.99937104249916, 99.99839199923521, 99.9960749301772, 99.99084283875588, 99.97956114162866, 99.95631400815438, 99.91050348042566, 99.8241179138515, 99.66814397420369, 99.39835121373183, 98.95106321610741, 98.23998998911476, 97.15560331795096, 95.56869599429663, 93.33946903963934, 90.33260477521787, 86.43734879630827, 81.58991913366519, 75.79407931963542, 69.1350293205374, 61.78232827986666, 53.979461869358936, 46.020538130641064, 38.21767172013334, 30.8649706794626, 24.205920680364578, 18.41008086633481, 13.562651203691733, 9.667395224782116, 6.6605309603606555, 4.431304005703374, 2.844396682049033, 1.760010010885238, 1.0489367838925845, 0.6016487862681719, 0.3318560257963066, 0.17588208614850442, 0.08949651957433913, 0.04368599184561006, 0.02043885837132997, 0.009157161244111034, 0.00392506982278551, 0.0016080007647745198, 0.0006289575008255888, 0.0002346206306236276, 8.336813246412333e-05, 2.818141016103226e-05, 9.050013094480391e-06, 2.756790373759088e-06, 7.952664082822025e-07, 2.1686831219724922e-07, 5.57954238367131e-08, 1.3513790086960853e-08, 3.073885590509917e-09, 6.548872555356411e-10, 1.3028467193976212e-10, 2.41140440948584e-11, 4.130029651605582e-12, 6.439293542825908e-13, 7.771561172376096e-14, 0.0, -2.220446049250313e-14, -2.220446049250313e-14, -2.220446049250313e-14, -2.220446049250313e-14, -2.220446049250313e-14, -2.220446049250313e-14, -2.220446049250313e-14, -2.220446049250313e-14, -2.220446049250313e-14, -2.220446049250313e-14, -2.220446049250313e-14]\n"
     ]
    },
    {
     "data": {
      "image/png": "[encoded data removed]",
      "text/plain": [
       "<Figure size 720x144 with 1 Axes>"
      ]
     },
     "metadata": {
      "needs_background": "light"
     },
     "output_type": "display_data"
    }
   ],
   "source": [
    "# true_x_vals =\n",
    "plt.figure(figsize=(10, 2))\n",
    "n=100\n",
    "\n",
    "sorted_keys = list(range(1, 101))\n",
    "priors = [100*get_prior_gen_membership(n, k) for k in sorted_keys]\n",
    "print(priors)\n",
    "plt.plot(sorted_keys, priors)\n",
    "\n",
    "y_min, y_max = 0, 110\n",
    "plt.ylim(y_min, y_max)\n",
    "\n",
    "plt.ylabel(\"Prior (%)\", fontsize=18)\n",
    "plt.xlabel(\"Required number of members ($k$)\", fontsize=18)\n",
    "# ax.set_title(titles[ind], fontsize=14)\n",
    "plt.grid(True)\n",
    "plt.tick_params(axis='both', labelsize=16)\n",
    "plt.title(\"Priors for Generalized Membership Attack ($n=100$)\", fontsize=20)\n",
    "plt.savefig('hybrid_figs/gen_member_prior.svg', bbox_inches = \"tight\")\n"
   ]
  },
  {
   "cell_type": "code",
   "execution_count": 51,
   "id": "339b06c4",
   "metadata": {},
   "outputs": [
    {
     "data": {
      "text/plain": [
       "0.06660530960360656"
      ]
     },
     "execution_count": 51,
     "metadata": {},
     "output_type": "execute_result"
    }
   ],
   "source": [
    "get_prior_gen_membership(n, 58)"
   ]
  },
  {
   "cell_type": "code",
   "execution_count": 41,
   "id": "a2a6f29e",
   "metadata": {},
   "outputs": [],
   "source": [
    "def calc_posterior(mi, prior=0.5, prec = 100000):\n",
    "    test_vals = [x / prec for x in range(1, prec)]\n",
    "    max_t = None\n",
    "    for t in test_vals:\n",
    "        if t*np.log(t/prior)+(1-t)*np.log((1-t)/(1-prior)) <= mi:\n",
    "            if  max_t is None or t > max_t:\n",
    "                max_t = t\n",
    "    return max_t"
   ]
  },
  {
   "cell_type": "code",
   "execution_count": 48,
   "id": "090e7043",
   "metadata": {},
   "outputs": [
    {
     "data": {
      "text/plain": [
       "0.13814"
      ]
     },
     "execution_count": 48,
     "metadata": {},
     "output_type": "execute_result"
    }
   ],
   "source": [
    "calc_posterior(1, prior=get_prior_gen_membership(n, 70))"
   ]
  },
  {
   "cell_type": "code",
   "execution_count": null,
   "id": "00a7d16b",
   "metadata": {},
   "outputs": [],
   "source": []
  }
 ],
 "metadata": {
  "kernelspec": {
   "display_name": "Python 3 (ipykernel)",
   "language": "python",
   "name": "python3"
  },
  "language_info": {
   "codemirror_mode": {
    "name": "ipython",
    "version": 3
   },
   "file_extension": ".py",
   "mimetype": "text/x-python",
   "name": "python",
   "nbconvert_exporter": "python",
   "pygments_lexer": "ipython3",
   "version": "3.9.17"
  }
 },
 "nbformat": 4,
 "nbformat_minor": 5
}
