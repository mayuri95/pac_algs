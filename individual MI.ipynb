{
 "cells": [
  {
   "cell_type": "code",
   "execution_count": 1,
   "id": "823a71af",
   "metadata": {},
   "outputs": [],
   "source": [
    "from sklearn.utils import shuffle\n",
    "from sklearn import svm\n",
    "import numpy as np\n",
    "import pickle\n",
    "import os\n",
    "import pandas as pd\n",
    "import scipy\n",
    "from scipy.optimize import linear_sum_assignment\n",
    "from scipy.spatial import distance\n",
    "from sklearn.datasets import make_blobs\n",
    "import math\n",
    "import argparse\n",
    "import copy\n",
    "import matplotlib.pyplot as plt\n",
    "from sklearn.metrics import accuracy_score\n",
    "from ucimlrepo import fetch_ucirepo \n",
    "from collections import Counter\n",
    "from scipy.stats import entropy\n",
    "from sklearn import tree\n",
    "from sklearn import preprocessing\n",
    "from itertools import product\n",
    "from algs_lib import *"
   ]
  },
  {
   "cell_type": "code",
   "execution_count": 2,
   "id": "a7bfc0df",
   "metadata": {},
   "outputs": [
    {
     "name": "stdout",
     "output_type": "stream",
     "text": [
      "C=0.01, mi=1.0\n",
      "[0.33333333 0.20833333 0.50847458 0.5       ] (1, 0)\n",
      "(99, 4) (99, 2)\n",
      "acc=0.6322040816326521, 0.6322857142857131\n",
      "C=0.02, mi=1.0\n",
      "[0.33333333 0.20833333 0.50847458 0.5       ] (1, 0)\n",
      "(99, 4) (99, 2)\n",
      "acc=0.6508163265306108, 0.6513469387755088\n",
      "C=0.03, mi=1.0\n",
      "[0.33333333 0.20833333 0.50847458 0.5       ] (1, 0)\n",
      "(99, 4) (99, 2)\n"
     ]
    },
    {
     "ename": "KeyboardInterrupt",
     "evalue": "",
     "output_type": "error",
     "traceback": [
      "\u001b[0;31m---------------------------------------------------------------------------\u001b[0m",
      "\u001b[0;31mKeyboardInterrupt\u001b[0m                         Traceback (most recent call last)",
      "Input \u001b[0;32mIn [2]\u001b[0m, in \u001b[0;36m<cell line: 11>\u001b[0;34m()\u001b[0m\n\u001b[1;32m     14\u001b[0m \u001b[38;5;28;01mfor\u001b[39;00m C \u001b[38;5;129;01min\u001b[39;00m C_range:\n\u001b[1;32m     15\u001b[0m     \u001b[38;5;28mprint\u001b[39m(\u001b[38;5;124mf\u001b[39m\u001b[38;5;124m\"\u001b[39m\u001b[38;5;124mC=\u001b[39m\u001b[38;5;132;01m{\u001b[39;00mC\u001b[38;5;132;01m}\u001b[39;00m\u001b[38;5;124m, mi=\u001b[39m\u001b[38;5;132;01m{\u001b[39;00mmi\u001b[38;5;132;01m}\u001b[39;00m\u001b[38;5;124m\"\u001b[39m)\n\u001b[0;32m---> 17\u001b[0m     est_noise \u001b[38;5;241m=\u001b[39m \u001b[43mrand_mechanism_individual_noise\u001b[49m\u001b[43m(\u001b[49m\u001b[43mtrain_x\u001b[49m\u001b[43m,\u001b[49m\u001b[43m \u001b[49m\u001b[43mtrain_y\u001b[49m\u001b[43m,\u001b[49m\u001b[43m \u001b[49m\u001b[43mrun_svm\u001b[49m\u001b[43m,\u001b[49m\u001b[43m \u001b[49m\u001b[43msubsample_rate\u001b[49m\u001b[43m,\u001b[49m\u001b[43m \u001b[49m\u001b[43mindex\u001b[49m\u001b[43m \u001b[49m\u001b[38;5;241;43m=\u001b[39;49m\u001b[43m \u001b[49m\u001b[38;5;241;43m0\u001b[39;49m\u001b[43m,\u001b[49m\u001b[43m \u001b[49m\u001b[43mtau\u001b[49m\u001b[38;5;241;43m=\u001b[39;49m\u001b[38;5;241;43m3\u001b[39;49m\u001b[43m,\u001b[49m\n\u001b[1;32m     18\u001b[0m \u001b[43m                                     \u001b[49m\u001b[43mnum_classes\u001b[49m\u001b[43m \u001b[49m\u001b[38;5;241;43m=\u001b[39;49m\u001b[43m \u001b[49m\u001b[43mnum_classes\u001b[49m\u001b[43m,\u001b[49m\u001b[43m \u001b[49m\u001b[43mregularize\u001b[49m\u001b[38;5;241;43m=\u001b[39;49m\u001b[43mC\u001b[49m\u001b[43m,\u001b[49m\u001b[43m \u001b[49m\u001b[43mmax_mi\u001b[49m\u001b[38;5;241;43m=\u001b[39;49m\u001b[43mmi\u001b[49m\u001b[43m)\u001b[49m[\u001b[38;5;241m2\u001b[39m]\n\u001b[1;32m     19\u001b[0m     iris_noise[C] \u001b[38;5;241m=\u001b[39m est_noise\n\u001b[1;32m     21\u001b[0m     num_features \u001b[38;5;241m=\u001b[39m \u001b[38;5;28mlen\u001b[39m(train_x[\u001b[38;5;241m0\u001b[39m])\n",
      "File \u001b[0;32m~/Desktop/pac_algs/algs_lib.py:198\u001b[0m, in \u001b[0;36mrand_mechanism_individual_noise\u001b[0;34m(train_x, train_y, mechanism, subsample_rate, tau, num_classes, index, regularize, tree_depth, num_trees, prefix, max_mi)\u001b[0m\n\u001b[1;32m    195\u001b[0m     y_2 \u001b[38;5;241m=\u001b[39m [mechanism(shuffled_x2, shuffled_y2, num_classes, seeds[i])[\u001b[38;5;241m1\u001b[39m] \u001b[38;5;28;01mfor\u001b[39;00m i \u001b[38;5;129;01min\u001b[39;00m \u001b[38;5;28mrange\u001b[39m(\u001b[38;5;28mlen\u001b[39m(seeds))]\n\u001b[1;32m    197\u001b[0m \u001b[38;5;28;01mif\u001b[39;00m mechanism \u001b[38;5;241m==\u001b[39m run_svm:\n\u001b[0;32m--> 198\u001b[0m     y_1 \u001b[38;5;241m=\u001b[39m [mechanism(shuffled_x1, shuffled_y1, num_classes, seeds[i], regularize)[\u001b[38;5;241m1\u001b[39m] \u001b[38;5;28;01mfor\u001b[39;00m i \u001b[38;5;129;01min\u001b[39;00m \u001b[38;5;28mrange\u001b[39m(\u001b[38;5;28mlen\u001b[39m(seeds))]\n\u001b[1;32m    199\u001b[0m     y_2 \u001b[38;5;241m=\u001b[39m [mechanism(shuffled_x2, shuffled_y2, num_classes, seeds[i], regularize)[\u001b[38;5;241m1\u001b[39m] \u001b[38;5;28;01mfor\u001b[39;00m i \u001b[38;5;129;01min\u001b[39;00m \u001b[38;5;28mrange\u001b[39m(\u001b[38;5;28mlen\u001b[39m(seeds))]\n\u001b[1;32m    201\u001b[0m \u001b[38;5;28;01mif\u001b[39;00m mechanism\u001b[38;5;241m.\u001b[39m\u001b[38;5;18m__name__\u001b[39m \u001b[38;5;241m==\u001b[39m \u001b[38;5;124m'\u001b[39m\u001b[38;5;124mfit_forest\u001b[39m\u001b[38;5;124m'\u001b[39m \u001b[38;5;129;01mor\u001b[39;00m mechanism\u001b[38;5;241m.\u001b[39m\u001b[38;5;18m__name__\u001b[39m \u001b[38;5;241m==\u001b[39m \u001b[38;5;124m'\u001b[39m\u001b[38;5;124mfit_gbdt\u001b[39m\u001b[38;5;124m'\u001b[39m:\n",
      "File \u001b[0;32m~/Desktop/pac_algs/algs_lib.py:198\u001b[0m, in \u001b[0;36m<listcomp>\u001b[0;34m(.0)\u001b[0m\n\u001b[1;32m    195\u001b[0m     y_2 \u001b[38;5;241m=\u001b[39m [mechanism(shuffled_x2, shuffled_y2, num_classes, seeds[i])[\u001b[38;5;241m1\u001b[39m] \u001b[38;5;28;01mfor\u001b[39;00m i \u001b[38;5;129;01min\u001b[39;00m \u001b[38;5;28mrange\u001b[39m(\u001b[38;5;28mlen\u001b[39m(seeds))]\n\u001b[1;32m    197\u001b[0m \u001b[38;5;28;01mif\u001b[39;00m mechanism \u001b[38;5;241m==\u001b[39m run_svm:\n\u001b[0;32m--> 198\u001b[0m     y_1 \u001b[38;5;241m=\u001b[39m [\u001b[43mmechanism\u001b[49m\u001b[43m(\u001b[49m\u001b[43mshuffled_x1\u001b[49m\u001b[43m,\u001b[49m\u001b[43m \u001b[49m\u001b[43mshuffled_y1\u001b[49m\u001b[43m,\u001b[49m\u001b[43m \u001b[49m\u001b[43mnum_classes\u001b[49m\u001b[43m,\u001b[49m\u001b[43m \u001b[49m\u001b[43mseeds\u001b[49m\u001b[43m[\u001b[49m\u001b[43mi\u001b[49m\u001b[43m]\u001b[49m\u001b[43m,\u001b[49m\u001b[43m \u001b[49m\u001b[43mregularize\u001b[49m\u001b[43m)\u001b[49m[\u001b[38;5;241m1\u001b[39m] \u001b[38;5;28;01mfor\u001b[39;00m i \u001b[38;5;129;01min\u001b[39;00m \u001b[38;5;28mrange\u001b[39m(\u001b[38;5;28mlen\u001b[39m(seeds))]\n\u001b[1;32m    199\u001b[0m     y_2 \u001b[38;5;241m=\u001b[39m [mechanism(shuffled_x2, shuffled_y2, num_classes, seeds[i], regularize)[\u001b[38;5;241m1\u001b[39m] \u001b[38;5;28;01mfor\u001b[39;00m i \u001b[38;5;129;01min\u001b[39;00m \u001b[38;5;28mrange\u001b[39m(\u001b[38;5;28mlen\u001b[39m(seeds))]\n\u001b[1;32m    201\u001b[0m \u001b[38;5;28;01mif\u001b[39;00m mechanism\u001b[38;5;241m.\u001b[39m\u001b[38;5;18m__name__\u001b[39m \u001b[38;5;241m==\u001b[39m \u001b[38;5;124m'\u001b[39m\u001b[38;5;124mfit_forest\u001b[39m\u001b[38;5;124m'\u001b[39m \u001b[38;5;129;01mor\u001b[39;00m mechanism\u001b[38;5;241m.\u001b[39m\u001b[38;5;18m__name__\u001b[39m \u001b[38;5;241m==\u001b[39m \u001b[38;5;124m'\u001b[39m\u001b[38;5;124mfit_gbdt\u001b[39m\u001b[38;5;124m'\u001b[39m:\n",
      "File \u001b[0;32m~/Desktop/pac_algs/algs_lib.py:874\u001b[0m, in \u001b[0;36mrun_svm\u001b[0;34m(train_x, train_y, num_classes, seed, regularize)\u001b[0m\n\u001b[1;32m    872\u001b[0m rand_state \u001b[38;5;241m=\u001b[39m np\u001b[38;5;241m.\u001b[39mrandom\u001b[38;5;241m.\u001b[39mRandomState(seed)\n\u001b[1;32m    873\u001b[0m model \u001b[38;5;241m=\u001b[39m svm\u001b[38;5;241m.\u001b[39mLinearSVC(dual\u001b[38;5;241m=\u001b[39m\u001b[38;5;28;01mFalse\u001b[39;00m, random_state\u001b[38;5;241m=\u001b[39mrand_state, C\u001b[38;5;241m=\u001b[39mregularize)\n\u001b[0;32m--> 874\u001b[0m \u001b[43mmodel\u001b[49m\u001b[38;5;241;43m.\u001b[39;49m\u001b[43mfit\u001b[49m\u001b[43m(\u001b[49m\u001b[43mtrain_x\u001b[49m\u001b[43m,\u001b[49m\u001b[43m \u001b[49m\u001b[43mtrain_y\u001b[49m\u001b[43m)\u001b[49m\n\u001b[1;32m    875\u001b[0m int_shape \u001b[38;5;241m=\u001b[39m (model\u001b[38;5;241m.\u001b[39mintercept_\u001b[38;5;241m.\u001b[39mshape[\u001b[38;5;241m0\u001b[39m], \u001b[38;5;241m1\u001b[39m)\n\u001b[1;32m    876\u001b[0m int_shaped \u001b[38;5;241m=\u001b[39m np\u001b[38;5;241m.\u001b[39mreshape(model\u001b[38;5;241m.\u001b[39mintercept_, int_shape)\n",
      "File \u001b[0;32m/opt/homebrew/lib/python3.9/site-packages/sklearn/svm/_classes.py:274\u001b[0m, in \u001b[0;36mLinearSVC.fit\u001b[0;34m(self, X, y, sample_weight)\u001b[0m\n\u001b[1;32m    271\u001b[0m check_classification_targets(y)\n\u001b[1;32m    272\u001b[0m \u001b[38;5;28mself\u001b[39m\u001b[38;5;241m.\u001b[39mclasses_ \u001b[38;5;241m=\u001b[39m np\u001b[38;5;241m.\u001b[39munique(y)\n\u001b[0;32m--> 274\u001b[0m \u001b[38;5;28mself\u001b[39m\u001b[38;5;241m.\u001b[39mcoef_, \u001b[38;5;28mself\u001b[39m\u001b[38;5;241m.\u001b[39mintercept_, n_iter_ \u001b[38;5;241m=\u001b[39m \u001b[43m_fit_liblinear\u001b[49m\u001b[43m(\u001b[49m\n\u001b[1;32m    275\u001b[0m \u001b[43m    \u001b[49m\u001b[43mX\u001b[49m\u001b[43m,\u001b[49m\n\u001b[1;32m    276\u001b[0m \u001b[43m    \u001b[49m\u001b[43my\u001b[49m\u001b[43m,\u001b[49m\n\u001b[1;32m    277\u001b[0m \u001b[43m    \u001b[49m\u001b[38;5;28;43mself\u001b[39;49m\u001b[38;5;241;43m.\u001b[39;49m\u001b[43mC\u001b[49m\u001b[43m,\u001b[49m\n\u001b[1;32m    278\u001b[0m \u001b[43m    \u001b[49m\u001b[38;5;28;43mself\u001b[39;49m\u001b[38;5;241;43m.\u001b[39;49m\u001b[43mfit_intercept\u001b[49m\u001b[43m,\u001b[49m\n\u001b[1;32m    279\u001b[0m \u001b[43m    \u001b[49m\u001b[38;5;28;43mself\u001b[39;49m\u001b[38;5;241;43m.\u001b[39;49m\u001b[43mintercept_scaling\u001b[49m\u001b[43m,\u001b[49m\n\u001b[1;32m    280\u001b[0m \u001b[43m    \u001b[49m\u001b[38;5;28;43mself\u001b[39;49m\u001b[38;5;241;43m.\u001b[39;49m\u001b[43mclass_weight\u001b[49m\u001b[43m,\u001b[49m\n\u001b[1;32m    281\u001b[0m \u001b[43m    \u001b[49m\u001b[38;5;28;43mself\u001b[39;49m\u001b[38;5;241;43m.\u001b[39;49m\u001b[43mpenalty\u001b[49m\u001b[43m,\u001b[49m\n\u001b[1;32m    282\u001b[0m \u001b[43m    \u001b[49m\u001b[38;5;28;43mself\u001b[39;49m\u001b[38;5;241;43m.\u001b[39;49m\u001b[43mdual\u001b[49m\u001b[43m,\u001b[49m\n\u001b[1;32m    283\u001b[0m \u001b[43m    \u001b[49m\u001b[38;5;28;43mself\u001b[39;49m\u001b[38;5;241;43m.\u001b[39;49m\u001b[43mverbose\u001b[49m\u001b[43m,\u001b[49m\n\u001b[1;32m    284\u001b[0m \u001b[43m    \u001b[49m\u001b[38;5;28;43mself\u001b[39;49m\u001b[38;5;241;43m.\u001b[39;49m\u001b[43mmax_iter\u001b[49m\u001b[43m,\u001b[49m\n\u001b[1;32m    285\u001b[0m \u001b[43m    \u001b[49m\u001b[38;5;28;43mself\u001b[39;49m\u001b[38;5;241;43m.\u001b[39;49m\u001b[43mtol\u001b[49m\u001b[43m,\u001b[49m\n\u001b[1;32m    286\u001b[0m \u001b[43m    \u001b[49m\u001b[38;5;28;43mself\u001b[39;49m\u001b[38;5;241;43m.\u001b[39;49m\u001b[43mrandom_state\u001b[49m\u001b[43m,\u001b[49m\n\u001b[1;32m    287\u001b[0m \u001b[43m    \u001b[49m\u001b[38;5;28;43mself\u001b[39;49m\u001b[38;5;241;43m.\u001b[39;49m\u001b[43mmulti_class\u001b[49m\u001b[43m,\u001b[49m\n\u001b[1;32m    288\u001b[0m \u001b[43m    \u001b[49m\u001b[38;5;28;43mself\u001b[39;49m\u001b[38;5;241;43m.\u001b[39;49m\u001b[43mloss\u001b[49m\u001b[43m,\u001b[49m\n\u001b[1;32m    289\u001b[0m \u001b[43m    \u001b[49m\u001b[43msample_weight\u001b[49m\u001b[38;5;241;43m=\u001b[39;49m\u001b[43msample_weight\u001b[49m\u001b[43m,\u001b[49m\n\u001b[1;32m    290\u001b[0m \u001b[43m\u001b[49m\u001b[43m)\u001b[49m\n\u001b[1;32m    291\u001b[0m \u001b[38;5;66;03m# Backward compatibility: _fit_liblinear is used both by LinearSVC/R\u001b[39;00m\n\u001b[1;32m    292\u001b[0m \u001b[38;5;66;03m# and LogisticRegression but LogisticRegression sets a structured\u001b[39;00m\n\u001b[1;32m    293\u001b[0m \u001b[38;5;66;03m# `n_iter_` attribute with information about the underlying OvR fits\u001b[39;00m\n\u001b[1;32m    294\u001b[0m \u001b[38;5;66;03m# while LinearSVC/R only reports the maximum value.\u001b[39;00m\n\u001b[1;32m    295\u001b[0m \u001b[38;5;28mself\u001b[39m\u001b[38;5;241m.\u001b[39mn_iter_ \u001b[38;5;241m=\u001b[39m n_iter_\u001b[38;5;241m.\u001b[39mmax()\u001b[38;5;241m.\u001b[39mitem()\n",
      "File \u001b[0;32m/opt/homebrew/lib/python3.9/site-packages/sklearn/svm/_base.py:1224\u001b[0m, in \u001b[0;36m_fit_liblinear\u001b[0;34m(X, y, C, fit_intercept, intercept_scaling, class_weight, penalty, dual, verbose, max_iter, tol, random_state, multi_class, loss, epsilon, sample_weight)\u001b[0m\n\u001b[1;32m   1221\u001b[0m sample_weight \u001b[38;5;241m=\u001b[39m _check_sample_weight(sample_weight, X, dtype\u001b[38;5;241m=\u001b[39mnp\u001b[38;5;241m.\u001b[39mfloat64)\n\u001b[1;32m   1223\u001b[0m solver_type \u001b[38;5;241m=\u001b[39m _get_liblinear_solver_type(multi_class, penalty, loss, dual)\n\u001b[0;32m-> 1224\u001b[0m raw_coef_, n_iter_ \u001b[38;5;241m=\u001b[39m \u001b[43mliblinear\u001b[49m\u001b[38;5;241;43m.\u001b[39;49m\u001b[43mtrain_wrap\u001b[49m\u001b[43m(\u001b[49m\n\u001b[1;32m   1225\u001b[0m \u001b[43m    \u001b[49m\u001b[43mX\u001b[49m\u001b[43m,\u001b[49m\n\u001b[1;32m   1226\u001b[0m \u001b[43m    \u001b[49m\u001b[43my_ind\u001b[49m\u001b[43m,\u001b[49m\n\u001b[1;32m   1227\u001b[0m \u001b[43m    \u001b[49m\u001b[43msp\u001b[49m\u001b[38;5;241;43m.\u001b[39;49m\u001b[43misspmatrix\u001b[49m\u001b[43m(\u001b[49m\u001b[43mX\u001b[49m\u001b[43m)\u001b[49m\u001b[43m,\u001b[49m\n\u001b[1;32m   1228\u001b[0m \u001b[43m    \u001b[49m\u001b[43msolver_type\u001b[49m\u001b[43m,\u001b[49m\n\u001b[1;32m   1229\u001b[0m \u001b[43m    \u001b[49m\u001b[43mtol\u001b[49m\u001b[43m,\u001b[49m\n\u001b[1;32m   1230\u001b[0m \u001b[43m    \u001b[49m\u001b[43mbias\u001b[49m\u001b[43m,\u001b[49m\n\u001b[1;32m   1231\u001b[0m \u001b[43m    \u001b[49m\u001b[43mC\u001b[49m\u001b[43m,\u001b[49m\n\u001b[1;32m   1232\u001b[0m \u001b[43m    \u001b[49m\u001b[43mclass_weight_\u001b[49m\u001b[43m,\u001b[49m\n\u001b[1;32m   1233\u001b[0m \u001b[43m    \u001b[49m\u001b[43mmax_iter\u001b[49m\u001b[43m,\u001b[49m\n\u001b[1;32m   1234\u001b[0m \u001b[43m    \u001b[49m\u001b[43mrnd\u001b[49m\u001b[38;5;241;43m.\u001b[39;49m\u001b[43mrandint\u001b[49m\u001b[43m(\u001b[49m\u001b[43mnp\u001b[49m\u001b[38;5;241;43m.\u001b[39;49m\u001b[43miinfo\u001b[49m\u001b[43m(\u001b[49m\u001b[38;5;124;43m\"\u001b[39;49m\u001b[38;5;124;43mi\u001b[39;49m\u001b[38;5;124;43m\"\u001b[39;49m\u001b[43m)\u001b[49m\u001b[38;5;241;43m.\u001b[39;49m\u001b[43mmax\u001b[49m\u001b[43m)\u001b[49m\u001b[43m,\u001b[49m\n\u001b[1;32m   1235\u001b[0m \u001b[43m    \u001b[49m\u001b[43mepsilon\u001b[49m\u001b[43m,\u001b[49m\n\u001b[1;32m   1236\u001b[0m \u001b[43m    \u001b[49m\u001b[43msample_weight\u001b[49m\u001b[43m,\u001b[49m\n\u001b[1;32m   1237\u001b[0m \u001b[43m\u001b[49m\u001b[43m)\u001b[49m\n\u001b[1;32m   1238\u001b[0m \u001b[38;5;66;03m# Regarding rnd.randint(..) in the above signature:\u001b[39;00m\n\u001b[1;32m   1239\u001b[0m \u001b[38;5;66;03m# seed for srand in range [0..INT_MAX); due to limitations in Numpy\u001b[39;00m\n\u001b[1;32m   1240\u001b[0m \u001b[38;5;66;03m# on 32-bit platforms, we can't get to the UINT_MAX limit that\u001b[39;00m\n\u001b[1;32m   1241\u001b[0m \u001b[38;5;66;03m# srand supports\u001b[39;00m\n\u001b[1;32m   1242\u001b[0m n_iter_max \u001b[38;5;241m=\u001b[39m \u001b[38;5;28mmax\u001b[39m(n_iter_)\n",
      "\u001b[0;31mKeyboardInterrupt\u001b[0m: "
     ]
    }
   ],
   "source": [
    "mi_range = [1.0]\n",
    "\n",
    "\n",
    "train_x, train_y, test_x, test_y, num_classes, train_len = gen_iris(normalize=True)\n",
    "\n",
    "subsample_rate = int(0.5*train_len)\n",
    "\n",
    "C_range = [x / 100. for x in range(1, 101)]\n",
    "num_trials = 500\n",
    "\n",
    "for mi in mi_range:\n",
    "    iris_noise = {}\n",
    "    iris_acc = {}\n",
    "    for C in C_range:\n",
    "        print(f\"C={C}, mi={mi}\")\n",
    "        \n",
    "        est_noise = rand_mechanism_individual_noise(train_x, train_y, run_svm, subsample_rate, index = 0, tau=3,\n",
    "                                         num_classes = num_classes, regularize=C, max_mi=mi)[2]\n",
    "        iris_noise[C] = est_noise\n",
    "\n",
    "        num_features = len(train_x[0])\n",
    "        model = svm.LinearSVC(dual=False, random_state=None)\n",
    "        model.fit(train_x[:50], train_y[:50])\n",
    "        avg_orig_acc = 0\n",
    "        avg_priv_acc = 0\n",
    "        for i in range(num_trials):\n",
    "            shuffled_x1, shuffled_y1 = shuffle(train_x, train_y)\n",
    "            shuffled_x1, shuffled_y1 = get_samples_safe(shuffled_x1, shuffled_y1, num_classes, subsample_rate)\n",
    "            model, svm_vec = run_svm(shuffled_x1, shuffled_y1, num_classes=num_classes, seed=None,\n",
    "                                     regularize=C)\n",
    "            acc = model.score(test_x, test_y)\n",
    "            avg_orig_acc += acc\n",
    "            for ind in range(len(svm_vec)):\n",
    "                c = np.random.normal(0, scale=iris_noise[C])\n",
    "                svm_vec[ind] += c\n",
    "            reshape_val = num_classes\n",
    "            if num_classes == 2:\n",
    "                reshape_val = 1 # special case for binary\n",
    "            svm_mat = np.reshape(svm_vec, (reshape_val, num_features+1))\n",
    "            intercept = svm_mat[:, -1]\n",
    "            svm_mat = svm_mat[:, :-1]\n",
    "            model.coef_ = svm_mat\n",
    "            model.intercept_ = intercept\n",
    "            priv_acc = model.score(test_x, test_y)\n",
    "            avg_priv_acc += priv_acc\n",
    "        avg_orig_acc /= num_trials\n",
    "        avg_priv_acc /= num_trials\n",
    "        iris_acc[C] = (avg_orig_acc, avg_priv_acc)\n",
    "        print(f'acc={avg_orig_acc}, {avg_priv_acc}')"
   ]
  },
  {
   "cell_type": "code",
   "execution_count": 5,
   "id": "7f3e131a",
   "metadata": {},
   "outputs": [
    {
     "name": "stdout",
     "output_type": "stream",
     "text": [
      "{(0.01, 0.1, 0.56): (0.9088003502626969, 0.46035026269702284)}\n",
      "{(0.01, 0.15, 0.53): (0.9117513134851144, 0.44958844133099857)}\n",
      "{(0.01, 0.15, 0.56): (0.9066462346760076, 0.4394746059544662)}\n",
      "{(0.01, 0.2, 0.51): (0.9051488616462343, 0.44472854640980747)}\n",
      "{(0.01, 0.2, 0.56): (0.9084588441330997, 0.4715323992994744)}\n",
      "{(0.01, 0.35, 0.51): (0.9002714535901923, 0.8998423817863397)}\n"
     ]
    }
   ],
   "source": [
    "name = 'data_rice/rice_acc_reg={}.pkl'\n",
    "for r in [(0.01, 0.1, 0.56), (0.01, 0.15, 0.53),  (0.01, 0.15, 0.56), \n",
    "          (0.01, 0.2, 0.51),  (0.01, 0.2, 0.56),  (0.01, 0.35, 0.51)]:\n",
    "    print(pickle.load(open(name.format(r), 'rb')))"
   ]
  },
  {
   "cell_type": "code",
   "execution_count": 5,
   "id": "52b14ac5",
   "metadata": {},
   "outputs": [],
   "source": [
    "name = 'iris_ind_data/iris_svm_ind_noise_mi=0.015625.pkl'"
   ]
  },
  {
   "cell_type": "code",
   "execution_count": 6,
   "id": "a949a8e6",
   "metadata": {},
   "outputs": [
    {
     "data": {
      "text/plain": [
       "{0.05: 0.2487263423749335,\n",
       " 0.1: 0.3939403244525577,\n",
       " 0.15: 0.5485518906856486,\n",
       " 0.2: 0.7128162529787387,\n",
       " 0.25: 0.882549990765237,\n",
       " 0.3: 1.0418775077040243,\n",
       " 0.35: 1.263174616844902,\n",
       " 0.4: 1.434620214414537,\n",
       " 0.45: 1.5514065856750276,\n",
       " 0.5: 1.818719782182062,\n",
       " 0.55: 1.873550840646252,\n",
       " 0.6: 1.9953339519697801,\n",
       " 0.65: 2.0695599593033887,\n",
       " 0.7: 2.139677513781071,\n",
       " 0.75: 2.2144174492136557,\n",
       " 0.8: 2.268307557254384,\n",
       " 0.85: 2.4734903852345393,\n",
       " 0.9: 2.5490654428847024,\n",
       " 0.95: 2.648599934979816,\n",
       " 1.0: 2.6342161472083885}"
      ]
     },
     "execution_count": 6,
     "metadata": {},
     "output_type": "execute_result"
    }
   ],
   "source": [
    "pickle.load(open(name, 'rb'))"
   ]
  },
  {
   "cell_type": "code",
   "execution_count": null,
   "id": "81812727",
   "metadata": {},
   "outputs": [],
   "source": []
  }
 ],
 "metadata": {
  "kernelspec": {
   "display_name": "Python 3 (ipykernel)",
   "language": "python",
   "name": "python3"
  },
  "language_info": {
   "codemirror_mode": {
    "name": "ipython",
    "version": 3
   },
   "file_extension": ".py",
   "mimetype": "text/x-python",
   "name": "python",
   "nbconvert_exporter": "python",
   "pygments_lexer": "ipython3",
   "version": "3.9.17"
  }
 },
 "nbformat": 4,
 "nbformat_minor": 5
}
