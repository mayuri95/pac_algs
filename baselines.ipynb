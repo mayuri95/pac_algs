{
 "cells": [
  {
   "cell_type": "code",
   "execution_count": 2,
   "id": "52a06a8f",
   "metadata": {},
   "outputs": [],
   "source": [
    "from sklearn.utils import shuffle\n",
    "from sklearn import svm\n",
    "import numpy as np\n",
    "import pickle\n",
    "import os\n",
    "import pandas as pd\n",
    "import scipy\n",
    "from scipy.optimize import linear_sum_assignment\n",
    "from scipy.spatial import distance\n",
    "from sklearn.datasets import make_blobs\n",
    "import math\n",
    "import argparse\n",
    "import copy\n",
    "import matplotlib.pyplot as plt\n",
    "from sklearn.metrics import accuracy_score\n",
    "from ucimlrepo import fetch_ucirepo \n",
    "from collections import Counter\n",
    "from scipy.stats import entropy\n",
    "from sklearn import tree\n",
    "from sklearn import preprocessing\n",
    "from itertools import product\n",
    "from algs_lib import *\n",
    "import sys\n",
    "\n",
    "# bean\n"
   ]
  },
  {
   "cell_type": "code",
   "execution_count": 3,
   "id": "47919064",
   "metadata": {},
   "outputs": [],
   "source": [
    "train_x, train_y, test_x, test_y, num_classes, train_len = gen_bean(normalize=True)\n"
   ]
  },
  {
   "cell_type": "code",
   "execution_count": 4,
   "id": "3851a6c3",
   "metadata": {},
   "outputs": [],
   "source": [
    "C_vals = [0.005]"
   ]
  },
  {
   "cell_type": "code",
   "execution_count": 5,
   "id": "edc3af49",
   "metadata": {},
   "outputs": [],
   "source": [
    "num_trials = 1000\n",
    "subsample_rate = train_len"
   ]
  },
  {
   "cell_type": "code",
   "execution_count": 7,
   "id": "3f50a552",
   "metadata": {},
   "outputs": [],
   "source": [
    "baseline_accs = {}\n",
    "baseline_accs['svm'] = {}\n",
    "for C in C_vals:\n",
    "    avg_acc = 0\n",
    "    for i in range(num_trials):\n",
    "        shuffled_x1, shuffled_y1 = shuffle(train_x, train_y)\n",
    "        shuffled_x1, shuffled_y1 = get_samples_safe(shuffled_x1, shuffled_y1, num_classes, subsample_rate)\n",
    "        model, svm_vec = run_svm(shuffled_x1, shuffled_y1, num_classes=num_classes, seed=None,\n",
    "                                 regularize=C)\n",
    "        acc = model.score(test_x, test_y)\n",
    "        avg_acc += acc\n",
    "    avg_acc /= num_trials\n",
    "    baseline_accs['svm'][C] = avg_acc\n"
   ]
  },
  {
   "cell_type": "code",
   "execution_count": 28,
   "id": "19938a17",
   "metadata": {},
   "outputs": [],
   "source": [
    "train_x, train_y, test_x, test_y, num_classes, train_len = gen_iris(normalize=True)\n",
    "subsample_rate = train_len\n",
    "regs = [(0.01, 0.68, 0.51)]"
   ]
  },
  {
   "cell_type": "code",
   "execution_count": 29,
   "id": "f58b5a8a",
   "metadata": {},
   "outputs": [],
   "source": [
    "shuffled_x1, shuffled_y1 = shuffle(train_x, train_y)\n",
    "shuffled_x1, shuffled_y1 = get_samples_safe(shuffled_x1, shuffled_y1, num_classes, subsample_rate)\n",
    "forest, forest_vec = fit_forest(shuffled_x1, shuffled_y1, num_trees, tree_depth, regularize=reg, seed=None)\n",
    "acc = forest.calculate_accuracy(test_x, test_y)"
   ]
  },
  {
   "cell_type": "code",
   "execution_count": 30,
   "id": "433a730d",
   "metadata": {},
   "outputs": [
    {
     "data": {
      "text/plain": [
       "0.6326530612244898"
      ]
     },
     "execution_count": 30,
     "metadata": {},
     "output_type": "execute_result"
    }
   ],
   "source": [
    "acc"
   ]
  },
  {
   "cell_type": "code",
   "execution_count": 43,
   "id": "4ace3ce0",
   "metadata": {},
   "outputs": [],
   "source": [
    "train_x, train_y, test_x, test_y, num_classes, train_len = gen_iris(normalize=True)\n",
    "num_trees = 1\n",
    "tree_depth = 3\n",
    "\n",
    "regs = [(0.01, 0.45, 0.8)]\n",
    "\n",
    "num_trials = 1000\n",
    "subsample_rate = int(0.5*train_len)\n",
    "\n",
    "baseline_accs = {}\n",
    "\n",
    "baseline_accs['dt'] = {}\n",
    "for reg in regs:\n",
    "    avg_acc = 0\n",
    "    for i in range(num_trials):\n",
    "        shuffled_x1, shuffled_y1 = shuffle(train_x, train_y)\n",
    "        shuffled_x1, shuffled_y1 = get_samples_safe(shuffled_x1, shuffled_y1, num_classes, subsample_rate)\n",
    "        forest, forest_vec = fit_forest(shuffled_x1, shuffled_y1, num_trees, tree_depth, regularize=reg, seed=None)\n",
    "        acc = forest.calculate_accuracy(test_x, test_y)\n",
    "        avg_acc += acc\n",
    "    avg_acc /= num_trials\n",
    "    baseline_accs['dt'][reg] = avg_acc"
   ]
  },
  {
   "cell_type": "code",
   "execution_count": 44,
   "id": "d64d6cfd",
   "metadata": {},
   "outputs": [],
   "source": [
    "acc = forest.calculate_accuracy(test_x, test_y)"
   ]
  },
  {
   "cell_type": "code",
   "execution_count": 45,
   "id": "a40ad35a",
   "metadata": {},
   "outputs": [
    {
     "data": {
      "text/plain": [
       "{'dt': {(0.01, 0.45, 0.8): 0.7439183673469384}}"
      ]
     },
     "execution_count": 45,
     "metadata": {},
     "output_type": "execute_result"
    }
   ],
   "source": [
    "baseline_accs"
   ]
  },
  {
   "cell_type": "code",
   "execution_count": 37,
   "id": "8a4c62ed",
   "metadata": {},
   "outputs": [
    {
     "data": {
      "text/plain": [
       "0.6530612244897959"
      ]
     },
     "execution_count": 37,
     "metadata": {},
     "output_type": "execute_result"
    }
   ],
   "source": [
    "acc"
   ]
  },
  {
   "cell_type": "code",
   "execution_count": null,
   "id": "27682084",
   "metadata": {},
   "outputs": [],
   "source": []
  }
 ],
 "metadata": {
  "kernelspec": {
   "display_name": "Python 3 (ipykernel)",
   "language": "python",
   "name": "python3"
  },
  "language_info": {
   "codemirror_mode": {
    "name": "ipython",
    "version": 3
   },
   "file_extension": ".py",
   "mimetype": "text/x-python",
   "name": "python",
   "nbconvert_exporter": "python",
   "pygments_lexer": "ipython3",
   "version": "3.9.17"
  }
 },
 "nbformat": 4,
 "nbformat_minor": 5
}
