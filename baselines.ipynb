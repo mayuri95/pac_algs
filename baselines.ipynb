{
 "cells": [
  {
   "cell_type": "code",
   "execution_count": 36,
   "id": "9968694e",
   "metadata": {},
   "outputs": [],
   "source": [
    "from algs_lib import *"
   ]
  },
  {
   "cell_type": "code",
   "execution_count": 39,
   "id": "9c95b3cc",
   "metadata": {},
   "outputs": [],
   "source": [
    "train_x, train_y, test_x, test_y, num_classes, train_len = gen_rice(normalize=True, norm_kind='quantile_gaussian')"
   ]
  },
  {
   "cell_type": "code",
   "execution_count": 40,
   "id": "443e6d8f",
   "metadata": {},
   "outputs": [
    {
     "data": {
      "text/plain": [
       "array([-0.46493066, -0.24356187, -0.20022214, -0.54013882, -0.05802937,\n",
       "       -0.4471524 , -1.38164339])"
      ]
     },
     "execution_count": 40,
     "metadata": {},
     "output_type": "execute_result"
    }
   ],
   "source": [
    "train_x[0]"
   ]
  },
  {
   "cell_type": "code",
   "execution_count": 77,
   "id": "e26fc84f",
   "metadata": {},
   "outputs": [],
   "source": [
    "regs = [(None, 0, 1.0), (0.01, 0.35, 0.51)]\n",
    "C_vals = [1.0, 1e-6]\n",
    "dims = [1, 6]\n",
    "\n",
    "seed = 743895091\n",
    "\n",
    "baseline_accs = {}\n",
    "\n",
    "\n",
    "rebalance = [True, False]\n",
    "# K MEANS\n",
    "baseline_accs['kmeans'] = {}\n",
    "for reb in rebalance:\n",
    "    if reb is True:\n",
    "        train_x, train_y, test_x, test_y, num_classes, train_len = gen_rice(normalize=True, norm_kind='standard')\n",
    "    else:\n",
    "        train_x, train_y, test_x, test_y, num_classes, train_len = gen_rice(normalize=True, norm_kind='standard')\n",
    "    model, cluster_centers = run_kmeans(train_x, train_y, num_clusters=num_classes, seed=seed, rebalance=reb)\n",
    "    predictions = model.predict(test_x)\n",
    "    acc = accuracy_score(test_y, predictions)\n",
    "    baseline_accs['kmeans'][reb] = acc\n"
   ]
  },
  {
   "cell_type": "code",
   "execution_count": 78,
   "id": "a5fea896",
   "metadata": {},
   "outputs": [
    {
     "data": {
      "text/plain": [
       "{'kmeans': {True: 0.9089316987740805, False: 0.9071803852889667}}"
      ]
     },
     "execution_count": 78,
     "metadata": {},
     "output_type": "execute_result"
    }
   ],
   "source": [
    "baseline_accs"
   ]
  },
  {
   "cell_type": "code",
   "execution_count": 79,
   "id": "4e098c88",
   "metadata": {},
   "outputs": [],
   "source": [
    "baseline_accs['svm'] = {}\n",
    "for C in C_vals:\n",
    "    if C == 1.0:\n",
    "        train_x, train_y, test_x, test_y, num_classes, train_len = gen_rice(\n",
    "            normalize=True, norm_kind='minmax')\n",
    "    else:\n",
    "        train_x, train_y, test_x, test_y, num_classes, train_len = gen_rice(\n",
    "            normalize=True, norm_kind='power_standard')\n",
    "    model, svm_vec = run_svm(train_x, train_y, num_classes=num_classes, seed=seed,\n",
    "                             regularize=C)\n",
    "    acc = model.score(test_x, test_y)\n",
    "    baseline_accs['svm'][C] = acc"
   ]
  },
  {
   "cell_type": "code",
   "execution_count": 80,
   "id": "4a59d6c2",
   "metadata": {},
   "outputs": [
    {
     "data": {
      "text/plain": [
       "{1.0: 0.9273204903677759, 1e-06: 0.9071803852889667}"
      ]
     },
     "execution_count": 80,
     "metadata": {},
     "output_type": "execute_result"
    }
   ],
   "source": [
    "baseline_accs['svm']"
   ]
  },
  {
   "cell_type": "code",
   "execution_count": 83,
   "id": "75fdba3d",
   "metadata": {},
   "outputs": [],
   "source": [
    "baseline_accs['dt'] = {}\n",
    "for reg_ind, reg in enumerate(regs):\n",
    "    if reg == (None, 0, 1.0):\n",
    "        train_x, train_y, test_x, test_y, num_classes, train_len = gen_rice(\n",
    "            normalize=True, norm_kind='minmax')\n",
    "\n",
    "    else:\n",
    "        train_x, train_y, test_x, test_y, num_classes, train_len = gen_rice(\n",
    "            normalize=True, norm_kind='standard')\n",
    "    num_trees, tree_depth = tree_params[reg_ind]\n",
    "    forest, forest_vec = fit_forest(train_x, train_y,\n",
    "                                    3, 3, regularize=reg, seed=seed)\n",
    "    acc = forest.calculate_accuracy(test_x, test_y)\n",
    "    baseline_accs['dt'][reg] = acc\n"
   ]
  },
  {
   "cell_type": "code",
   "execution_count": 84,
   "id": "326feb26",
   "metadata": {},
   "outputs": [
    {
     "data": {
      "text/plain": [
       "{(None, 0, 1.0): 0.9115586690017513, (0.01, 0.35, 0.51): 0.9185639229422067}"
      ]
     },
     "execution_count": 84,
     "metadata": {},
     "output_type": "execute_result"
    }
   ],
   "source": [
    "baseline_accs['dt']"
   ]
  },
  {
   "cell_type": "code",
   "execution_count": null,
   "id": "9097dc46",
   "metadata": {},
   "outputs": [],
   "source": [
    "{(None, 0, 1.0): 0.9115586690017513, (0.01, 0.2, 0.8): 0.9159369527145359}\n"
   ]
  }
 ],
 "metadata": {
  "kernelspec": {
   "display_name": "Python 3 (ipykernel)",
   "language": "python",
   "name": "python3"
  },
  "language_info": {
   "codemirror_mode": {
    "name": "ipython",
    "version": 3
   },
   "file_extension": ".py",
   "mimetype": "text/x-python",
   "name": "python",
   "nbconvert_exporter": "python",
   "pygments_lexer": "ipython3",
   "version": "3.9.17"
  }
 },
 "nbformat": 4,
 "nbformat_minor": 5
}
