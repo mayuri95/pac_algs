{
 "cells": [
  {
   "cell_type": "code",
   "execution_count": 1,
   "id": "27682084",
   "metadata": {},
   "outputs": [],
   "source": [
    "import pickle"
   ]
  },
  {
   "cell_type": "code",
   "execution_count": 2,
   "id": "313a78c1",
   "metadata": {},
   "outputs": [
    {
     "data": {
      "text/plain": [
       "{'kmeans': {True: 0.9157142857142984, False: 0.918122448979604},\n",
       " 'svm': {1.0: 0.9591836734693955, 0.05: 0.7142857142857043},\n",
       " 'dt': {(None, 0, 1.0): 0.9059795918367456,\n",
       "  (0.01, 0.2, 0.8): 0.8575510204081691},\n",
       " 'pca': {1: 0.2060303453624783, 2: 0.10858815750013762}}"
      ]
     },
     "execution_count": 2,
     "metadata": {},
     "output_type": "execute_result"
    }
   ],
   "source": [
    "fname = 'hybrid_baseline/iris_baselines.pkl'\n",
    "pickle.load(open(fname, 'rb'))"
   ]
  },
  {
   "cell_type": "code",
   "execution_count": 3,
   "id": "65b76f48",
   "metadata": {},
   "outputs": [
    {
     "data": {
      "text/plain": [
       "{'kmeans': {True: 0.911983362521902, False: 0.9114921190893376},\n",
       " 'svm': {1.0: 0.9273204903677511, 0.05: 0.9273204903677511},\n",
       " 'dt': {(None, 0, 1.0): 0.9143038528896621,\n",
       "  (0.01, 0.35, 0.51): 0.8886926444833576},\n",
       " 'pca': {1: 0.1849361854924115, 6: 0.0024628461351066688}}"
      ]
     },
     "execution_count": 3,
     "metadata": {},
     "output_type": "execute_result"
    }
   ],
   "source": [
    "fname = 'hybrid_baseline/rice_baselines.pkl'\n",
    "pickle.load(open(fname, 'rb'))"
   ]
  },
  {
   "cell_type": "code",
   "execution_count": 4,
   "id": "1d75e01b",
   "metadata": {},
   "outputs": [
    {
     "data": {
      "text/plain": [
       "{'kmeans': {True: 0.8485297575312244, False: 0.7045895175116373},\n",
       " 'svm': {1.0: 0.9110947832475934, 0.05: 0.8981141317658528},\n",
       " 'pca': {1: 0.16833902945484422, 8: 0.007777406069171114}}"
      ]
     },
     "execution_count": 4,
     "metadata": {},
     "output_type": "execute_result"
    }
   ],
   "source": [
    "fname = 'hybrid_baseline/bean_baselines.pkl'\n",
    "pickle.load(open(fname, 'rb'))"
   ]
  },
  {
   "cell_type": "code",
   "execution_count": null,
   "id": "620ebd01",
   "metadata": {},
   "outputs": [],
   "source": []
  }
 ],
 "metadata": {
  "kernelspec": {
   "display_name": "Python 3 (ipykernel)",
   "language": "python",
   "name": "python3"
  },
  "language_info": {
   "codemirror_mode": {
    "name": "ipython",
    "version": 3
   },
   "file_extension": ".py",
   "mimetype": "text/x-python",
   "name": "python",
   "nbconvert_exporter": "python",
   "pygments_lexer": "ipython3",
   "version": "3.9.17"
  }
 },
 "nbformat": 4,
 "nbformat_minor": 5
}
