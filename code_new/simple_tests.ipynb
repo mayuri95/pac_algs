{
 "cells": [
  {
   "cell_type": "code",
   "execution_count": 3,
   "id": "029cae13",
   "metadata": {},
   "outputs": [],
   "source": [
    "import numpy as np\n",
    "import random\n",
    "from sklearn.utils import shuffle\n"
   ]
  },
  {
   "cell_type": "code",
   "execution_count": 140,
   "id": "384a567f",
   "metadata": {},
   "outputs": [],
   "source": [
    "n = 100\n",
    "subsample_rate = int(n*0.5)\n",
    "num_trials = 1024\n",
    "\n",
    "chosen_sets = []\n",
    "i=0\n",
    "\n",
    "while i < num_trials:\n",
    "    shuffled_inds = shuffle(list(range(n)))\n",
    "    inds_1, inds_2 = shuffled_inds[:subsample_rate], shuffled_inds[subsample_rate:]\n",
    "    chosen_sets.append(inds_1)\n",
    "    chosen_sets.append(inds_2)\n",
    "    i+= 2"
   ]
  },
  {
   "cell_type": "code",
   "execution_count": 141,
   "id": "470459e9",
   "metadata": {},
   "outputs": [],
   "source": [
    "corrs = {}\n",
    "for i in range(n):\n",
    "    for j in range(n):\n",
    "        if i >= j:\n",
    "            continue\n",
    "        tot = 0\n",
    "        chosen_pair = (i, j)\n",
    "        for t in range(len(chosen_sets)):\n",
    "            if chosen_pair[0] in chosen_sets[t] and chosen_pair[1] in chosen_sets[t]:\n",
    "                tot += 1\n",
    "#         print(i,j)\n",
    "        corrs[(i,j)] = tot"
   ]
  },
  {
   "cell_type": "code",
   "execution_count": 142,
   "id": "c154c6e6",
   "metadata": {},
   "outputs": [
    {
     "data": {
      "text/plain": [
       "(0.2978515625, 0.2099609375)"
      ]
     },
     "execution_count": 142,
     "metadata": {},
     "output_type": "execute_result"
    }
   ],
   "source": [
    "(max(corrs.values()) / num_trials, min(corrs.values()) / num_trials)"
   ]
  },
  {
   "cell_type": "code",
   "execution_count": 144,
   "id": "3f7c9768",
   "metadata": {},
   "outputs": [
    {
     "data": {
      "text/plain": [
       "0.2474747474747475"
      ]
     },
     "execution_count": 144,
     "metadata": {},
     "output_type": "execute_result"
    }
   ],
   "source": [
    "sum(corrs.values()) / (len(corrs)*num_trials)"
   ]
  },
  {
   "cell_type": "code",
   "execution_count": null,
   "id": "4bd38a08",
   "metadata": {},
   "outputs": [],
   "source": []
  }
 ],
 "metadata": {
  "kernelspec": {
   "display_name": "Python 3 (ipykernel)",
   "language": "python",
   "name": "python3"
  },
  "language_info": {
   "codemirror_mode": {
    "name": "ipython",
    "version": 3
   },
   "file_extension": ".py",
   "mimetype": "text/x-python",
   "name": "python",
   "nbconvert_exporter": "python",
   "pygments_lexer": "ipython3",
   "version": "3.9.17"
  }
 },
 "nbformat": 4,
 "nbformat_minor": 5
}
