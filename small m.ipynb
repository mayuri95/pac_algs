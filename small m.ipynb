{
 "cells": [
  {
   "cell_type": "code",
   "execution_count": 13,
   "id": "9fbca760",
   "metadata": {},
   "outputs": [],
   "source": [
    "from algs_lib import *"
   ]
  },
  {
   "cell_type": "code",
   "execution_count": 14,
   "id": "c390af11",
   "metadata": {},
   "outputs": [],
   "source": [
    "def hybrid_noise_test(train_x, train_y, mechanism, subsample_rate, num_classes,\n",
    "    eta, regularize=None, rebalance = False, num_trees=None, tree_depth = None, max_mi = 0.5, num_dims = None,\n",
    "    record_ys = False, fname = None, num_trials = 1024):\n",
    "\n",
    "    avg_dist = 0.\n",
    "    curr_est = None\n",
    "    curr_trial = 0\n",
    "#     print(num_trials)\n",
    "    if num_classes is None:\n",
    "        num_classes = len(set(train_y))\n",
    "\n",
    "    assert subsample_rate >= num_classes\n",
    "\n",
    "    est_y = {}\n",
    "    est_x = {}\n",
    "    prev_ests = None\n",
    "    # 10*c*v\n",
    "    seed = 743895091 # randomly generated seed for reproducibility\n",
    "    s1 = None # only relevant for PCA\n",
    "\n",
    "    while curr_trial < num_trials:\n",
    "        shuffled_inds = shuffle(list(range(len(train_x))))\n",
    "        # shuffled_x, shuffled_y = shuffle(train_x, train_y)\n",
    "        x, y = train_x[shuffled_inds], train_y[shuffled_inds]\n",
    "        x1, y1 = x[:subsample_rate], y[:subsample_rate]\n",
    "        x2, y2 = x[subsample_rate:], y[subsample_rate:]\n",
    "        inds_1, inds_2 = shuffled_inds[:subsample_rate], shuffled_inds[subsample_rate:]\n",
    "\n",
    "        for (shuffled_x, shuffled_y, shuffled_inds) in [(x1, y1, inds_1), (x2, y2, inds_2)]:\n",
    "            est_x[curr_trial] = shuffled_inds\n",
    "\n",
    "            if mechanism == run_kmeans:\n",
    "                output = mechanism(shuffled_x, shuffled_y, num_classes, seed, rebalance=rebalance)[1]\n",
    "            if mechanism.__name__ == 'fit_forest' or mechanism.__name__ == 'fit_gbdt':\n",
    "                assert num_trees is not None\n",
    "                assert tree_depth is not None\n",
    "                output = mechanism(shuffled_x, shuffled_y, num_trees, tree_depth, seed, regularize)[1]\n",
    "            for ind in range(len(output)):\n",
    "                if ind not in est_y:\n",
    "                    est_y[ind] = []\n",
    "                est_y[ind].append(output[ind])\n",
    "\n",
    "            curr_trial += 1\n",
    "    fin_var = {ind: np.var(est_y[ind]) for ind in est_y}\n",
    "\n",
    "    noise = {}\n",
    "    sqrt_total_var = sum([fin_var[x]**0.5 for x in fin_var])\n",
    "    for ind in fin_var:\n",
    "        noise[ind] = 1./(2*max_mi) * fin_var[ind]**0.5 * sqrt_total_var\n",
    "    return est_x, noise\n"
   ]
  },
  {
   "cell_type": "code",
   "execution_count": 15,
   "id": "43bd1a43",
   "metadata": {},
   "outputs": [],
   "source": [
    "train_x, train_y, test_x, test_y, num_classes, train_len = gen_iris(normalize=True, norm_kind='power')"
   ]
  },
  {
   "cell_type": "code",
   "execution_count": 16,
   "id": "44fc1df4",
   "metadata": {},
   "outputs": [],
   "source": [
    "subsample_rate = int(0.5*train_len)"
   ]
  },
  {
   "cell_type": "code",
   "execution_count": 17,
   "id": "43ddb0b6",
   "metadata": {},
   "outputs": [],
   "source": [
    "all_noise = []\n",
    "for _ in range(100):\n",
    "    _, noise = hybrid_noise_test(train_x, train_y, run_kmeans, subsample_rate, eta=1e-6,\n",
    "            num_classes = num_classes, max_mi=0.5, rebalance=False, num_trials = 2)\n",
    "    all_noise.append(np.linalg.norm(list(noise.values())))"
   ]
  },
  {
   "cell_type": "code",
   "execution_count": 18,
   "id": "36c2164d",
   "metadata": {},
   "outputs": [
    {
     "data": {
      "text/plain": [
       "(0.0030000016862906445, 0.8953363659314739)"
      ]
     },
     "execution_count": 18,
     "metadata": {},
     "output_type": "execute_result"
    }
   ],
   "source": [
    "min(all_noise), max(all_noise)"
   ]
  },
  {
   "cell_type": "code",
   "execution_count": null,
   "id": "15ac73cc",
   "metadata": {},
   "outputs": [],
   "source": []
  },
  {
   "cell_type": "code",
   "execution_count": 19,
   "id": "c75f887d",
   "metadata": {
    "scrolled": true
   },
   "outputs": [
    {
     "name": "stdout",
     "output_type": "stream",
     "text": [
      "0\n",
      "1\n",
      "2\n",
      "3\n",
      "4\n",
      "5\n",
      "6\n",
      "7\n",
      "8\n",
      "9\n",
      "10\n",
      "11\n",
      "12\n",
      "13\n",
      "14\n",
      "15\n",
      "16\n",
      "17\n",
      "18\n",
      "19\n",
      "20\n",
      "21\n",
      "22\n",
      "23\n",
      "24\n",
      "25\n",
      "26\n",
      "27\n",
      "28\n",
      "29\n",
      "30\n",
      "31\n",
      "32\n",
      "33\n",
      "34\n",
      "35\n",
      "36\n",
      "37\n",
      "38\n",
      "39\n",
      "40\n",
      "41\n",
      "42\n",
      "43\n",
      "44\n",
      "45\n",
      "46\n",
      "47\n",
      "48\n",
      "49\n",
      "50\n",
      "51\n",
      "52\n",
      "53\n",
      "54\n",
      "55\n",
      "56\n",
      "57\n",
      "58\n",
      "59\n",
      "60\n",
      "61\n",
      "62\n",
      "63\n",
      "64\n",
      "65\n",
      "66\n",
      "67\n",
      "68\n",
      "69\n",
      "70\n",
      "71\n",
      "72\n",
      "73\n",
      "74\n",
      "75\n",
      "76\n",
      "77\n",
      "78\n",
      "79\n",
      "80\n",
      "81\n",
      "82\n",
      "83\n",
      "84\n",
      "85\n",
      "86\n",
      "87\n",
      "88\n",
      "89\n",
      "90\n",
      "91\n",
      "92\n",
      "93\n",
      "94\n",
      "95\n",
      "96\n",
      "97\n",
      "98\n",
      "99\n"
     ]
    }
   ],
   "source": [
    "all_noise = []\n",
    "for trial in range(100):\n",
    "    print(trial)\n",
    "    _, noise = hybrid_noise_test(train_x, train_y, run_kmeans, subsample_rate, eta=1e-6,\n",
    "            num_classes = num_classes, max_mi=0.5, rebalance=False, num_trials = 128)\n",
    "    all_noise.append(np.linalg.norm(list(noise.values())))"
   ]
  },
  {
   "cell_type": "code",
   "execution_count": 30,
   "id": "aef3d936",
   "metadata": {},
   "outputs": [
    {
     "data": {
      "text/plain": [
       "(0.3916633607536901, 0.9770152339608571)"
      ]
     },
     "execution_count": 30,
     "metadata": {},
     "output_type": "execute_result"
    }
   ],
   "source": [
    "min(all_noise), max(all_noise)"
   ]
  },
  {
   "cell_type": "code",
   "execution_count": 21,
   "id": "675d062b",
   "metadata": {},
   "outputs": [
    {
     "data": {
      "text/plain": [
       "0.27083333333333337"
      ]
     },
     "execution_count": 21,
     "metadata": {},
     "output_type": "execute_result"
    }
   ],
   "source": [
    "0.13/0.48"
   ]
  },
  {
   "cell_type": "code",
   "execution_count": 22,
   "id": "d8a6c6c5",
   "metadata": {},
   "outputs": [],
   "source": [
    "num_trees = 1 \n",
    "tree_depth = 3\n",
    "reg = (None, 0.0, 1.0)"
   ]
  },
  {
   "cell_type": "code",
   "execution_count": 23,
   "id": "eab1e456",
   "metadata": {},
   "outputs": [],
   "source": [
    "all_noise = []\n",
    "for _ in range(100):\n",
    "    _, noise = hybrid_noise_test(train_x, train_y, fit_forest, subsample_rate, eta=None,\n",
    "            num_classes = num_classes, max_mi=0.5, num_trials = 2, regularize=reg,\n",
    "            num_trees = num_trees, tree_depth=tree_depth)\n",
    "    all_noise.append(np.linalg.norm(list(noise.values())))"
   ]
  },
  {
   "cell_type": "code",
   "execution_count": 24,
   "id": "f344d88b",
   "metadata": {},
   "outputs": [
    {
     "data": {
      "text/plain": [
       "{0: 0.049617584070285776,\n",
       " 1: 0.17458989254317545,\n",
       " 2: 0.0,\n",
       " 3: 0.004117725584330527,\n",
       " 4: 0.0,\n",
       " 5: 0.029945074500887625,\n",
       " 6: 0.0}"
      ]
     },
     "execution_count": 24,
     "metadata": {},
     "output_type": "execute_result"
    }
   ],
   "source": [
    "noise"
   ]
  },
  {
   "cell_type": "code",
   "execution_count": 25,
   "id": "d0b56dec",
   "metadata": {},
   "outputs": [
    {
     "data": {
      "text/plain": [
       "(0.0819168649232067, 2.912128541338001)"
      ]
     },
     "execution_count": 25,
     "metadata": {},
     "output_type": "execute_result"
    }
   ],
   "source": [
    "min(all_noise), max(all_noise)"
   ]
  },
  {
   "cell_type": "code",
   "execution_count": 26,
   "id": "4d15fd69",
   "metadata": {
    "scrolled": true
   },
   "outputs": [
    {
     "name": "stdout",
     "output_type": "stream",
     "text": [
      "0\n",
      "1\n",
      "2\n",
      "3\n",
      "4\n",
      "5\n",
      "6\n",
      "7\n",
      "8\n",
      "9\n",
      "10\n",
      "11\n",
      "12\n",
      "13\n",
      "14\n",
      "15\n",
      "16\n",
      "17\n",
      "18\n",
      "19\n",
      "20\n",
      "21\n",
      "22\n",
      "23\n",
      "24\n",
      "25\n",
      "26\n",
      "27\n",
      "28\n",
      "29\n",
      "30\n",
      "31\n",
      "32\n",
      "33\n",
      "34\n",
      "35\n",
      "36\n",
      "37\n",
      "38\n",
      "39\n",
      "40\n",
      "41\n",
      "42\n",
      "43\n",
      "44\n",
      "45\n",
      "46\n",
      "47\n",
      "48\n",
      "49\n",
      "50\n",
      "51\n",
      "52\n",
      "53\n",
      "54\n",
      "55\n",
      "56\n",
      "57\n",
      "58\n",
      "59\n",
      "60\n",
      "61\n",
      "62\n",
      "63\n",
      "64\n",
      "65\n",
      "66\n",
      "67\n",
      "68\n",
      "69\n",
      "70\n",
      "71\n",
      "72\n",
      "73\n",
      "74\n",
      "75\n",
      "76\n",
      "77\n",
      "78\n",
      "79\n",
      "80\n",
      "81\n",
      "82\n",
      "83\n",
      "84\n",
      "85\n",
      "86\n",
      "87\n",
      "88\n",
      "89\n",
      "90\n",
      "91\n",
      "92\n",
      "93\n",
      "94\n",
      "95\n",
      "96\n",
      "97\n",
      "98\n",
      "99\n"
     ]
    }
   ],
   "source": [
    "all_noise = []\n",
    "for trial in range(100):\n",
    "    print(trial)\n",
    "    _, noise = hybrid_noise_test(train_x, train_y, fit_forest, subsample_rate, eta=None,\n",
    "            num_classes = num_classes, max_mi=0.5, num_trials = 128, regularize=reg,\n",
    "            num_trees = num_trees, tree_depth=tree_depth)\n",
    "    all_noise.append(np.linalg.norm(list(noise.values())))"
   ]
  },
  {
   "cell_type": "code",
   "execution_count": 27,
   "id": "a44c0009",
   "metadata": {},
   "outputs": [
    {
     "data": {
      "text/plain": [
       "(0.3916633607536901, 0.9770152339608571)"
      ]
     },
     "execution_count": 27,
     "metadata": {},
     "output_type": "execute_result"
    }
   ],
   "source": [
    "min(all_noise), max(all_noise)"
   ]
  },
  {
   "cell_type": "code",
   "execution_count": 28,
   "id": "fc165425",
   "metadata": {},
   "outputs": [],
   "source": [
    "_, scaled_noise = hybrid_noise_test(train_x, train_y, fit_forest, subsample_rate, eta=None,\n",
    "            num_classes = num_classes, max_mi=0.5, num_trials = 128, regularize=reg,\n",
    "            num_trees = num_trees, tree_depth=tree_depth)"
   ]
  },
  {
   "cell_type": "code",
   "execution_count": null,
   "id": "b36b735a",
   "metadata": {},
   "outputs": [],
   "source": []
  },
  {
   "cell_type": "code",
   "execution_count": null,
   "id": "d5956c1c",
   "metadata": {},
   "outputs": [],
   "source": []
  }
 ],
 "metadata": {
  "kernelspec": {
   "display_name": "Python 3 (ipykernel)",
   "language": "python",
   "name": "python3"
  },
  "language_info": {
   "codemirror_mode": {
    "name": "ipython",
    "version": 3
   },
   "file_extension": ".py",
   "mimetype": "text/x-python",
   "name": "python",
   "nbconvert_exporter": "python",
   "pygments_lexer": "ipython3",
   "version": "3.9.17"
  }
 },
 "nbformat": 4,
 "nbformat_minor": 5
}
