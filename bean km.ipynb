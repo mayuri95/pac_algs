{
 "cells": [
  {
   "cell_type": "code",
   "execution_count": 20,
   "id": "c754cc92",
   "metadata": {},
   "outputs": [],
   "source": [
    "from sklearn.utils import shuffle\n",
    "from sklearn.cluster import MiniBatchKMeans\n",
    "from sklearn import svm\n",
    "import numpy as np\n",
    "import pickle\n",
    "import os\n",
    "import pandas as pd\n",
    "import scipy\n",
    "from scipy.optimize import linear_sum_assignment\n",
    "from scipy.spatial import distance\n",
    "from sklearn.datasets import make_blobs\n",
    "import math\n",
    "import argparse\n",
    "import copy\n",
    "import matplotlib.pyplot as plt\n",
    "from sklearn.metrics import accuracy_score\n",
    "from ucimlrepo import fetch_ucirepo \n",
    "from collections import Counter\n",
    "from scipy.stats import entropy\n",
    "from sklearn import tree\n",
    "from sklearn import preprocessing\n",
    "from itertools import product\n",
    "from algs_lib import *\n",
    "import sys\n",
    "import imblearn"
   ]
  },
  {
   "cell_type": "code",
   "execution_count": 21,
   "id": "ea928be8",
   "metadata": {},
   "outputs": [],
   "source": [
    "train_x, train_y, test_x, test_y, num_classes, train_len = gen_bean(normalize=True)\n"
   ]
  },
  {
   "cell_type": "code",
   "execution_count": 51,
   "id": "fadfaed0",
   "metadata": {},
   "outputs": [],
   "source": [
    "def run_kmeans(train_x, train_y, num_clusters, seed, weights = None):\n",
    "    rand_state = np.random.RandomState(seed)\n",
    "    sm = SMOTE(random_state=seed)\n",
    "    train_x, train_y = sm.fit_resample(train_x, train_y)\n",
    "    model = KMeans(n_clusters=num_clusters, random_state=rand_state,\n",
    "                   max_iter = 1000, init='k-means++', n_init=10).fit(train_x)\n",
    "    centers = model.cluster_centers_\n",
    "\n",
    "    assert len(centers) == num_clusters\n",
    "    mapping = infer_cluster_labels(model, train_y)\n",
    "\n",
    "    ordered_centers = []\n",
    "    new_centers = []\n",
    "    \n",
    "    for ind in range(len(centers)):\n",
    "        index = mapping[ind]\n",
    "        curr_center = centers[index]\n",
    "        new_centers.append(curr_center)\n",
    "        for k in curr_center:\n",
    "            ordered_centers.append(k)\n",
    "    model.cluster_centers_ = np.array(new_centers)\n",
    "    return model, ordered_centers\n",
    "\n",
    "# def run_kmeans(train_x, train_y, num_clusters, seed):\n",
    "#     rand_state = np.random.RandomState(seed)\n",
    "#     sm = SMOTE(random_state=seed)\n",
    "#     train_x, train_y = sm.fit_resample(train_x, train_y)\n",
    "#     model = KMeans(n_clusters=num_clusters, random_state=rand_state,\n",
    "#         n_init=\"auto\", init='k-means++').fit(train_x)\n",
    "    \n",
    "#     centers = model.cluster_centers_\n",
    "#     assert len(centers) == num_clusters\n",
    "#     mapping = infer_cluster_labels(model, train_y)\n",
    "    \n",
    "#     ordered_centers = []\n",
    "#     new_centers = []\n",
    "    \n",
    "#     for ind in range(len(centers)):\n",
    "#         index = mapping[ind]\n",
    "#         curr_center = centers[index]\n",
    "#         new_centers.append(curr_center)\n",
    "#         for k in curr_center:\n",
    "#             ordered_centers.append(k)\n",
    "#     model.cluster_centers_ = np.array(new_centers)\n",
    "#     return model, ordered_centers"
   ]
  },
  {
   "cell_type": "code",
   "execution_count": 52,
   "id": "aaf3e53f",
   "metadata": {},
   "outputs": [],
   "source": [
    "from imblearn.over_sampling import SMOTE\n"
   ]
  },
  {
   "cell_type": "code",
   "execution_count": 53,
   "id": "16ff9784",
   "metadata": {},
   "outputs": [],
   "source": [
    "sm = SMOTE(random_state = 65703)\n",
    "X_res, y_res = sm.fit_resample(train_x, train_y)"
   ]
  },
  {
   "cell_type": "code",
   "execution_count": 54,
   "id": "ef979769",
   "metadata": {},
   "outputs": [
    {
     "name": "stdout",
     "output_type": "stream",
     "text": [
      "0.8577026696056821\n"
     ]
    }
   ],
   "source": [
    "model, cluster_centers = run_kmeans(X_res, y_res, num_clusters=num_classes, seed=None)\n",
    "predictions = model.predict(test_x)\n",
    "acc = accuracy_score(test_y, predictions)\n",
    "print(acc)"
   ]
  },
  {
   "cell_type": "code",
   "execution_count": 57,
   "id": "0af9e6a9",
   "metadata": {},
   "outputs": [
    {
     "name": "stdout",
     "output_type": "stream",
     "text": [
      "i=0, acc is 0.8545187362233652\n",
      "i=1, acc is 0.8540289003183933\n",
      "i=2, acc is 0.855008572128337\n",
      "i=3, acc is 0.855008572128337\n",
      "i=4, acc is 0.855008572128337\n",
      "i=5, acc is 0.8540289003183933\n",
      "i=6, acc is 0.8547636541758511\n",
      "i=7, acc is 0.855008572128337\n",
      "i=8, acc is 0.603722752877786\n",
      "i=9, acc is 0.8547636541758511\n",
      "i=10, acc is 0.8540289003183933\n",
      "i=11, acc is 0.8547636541758511\n",
      "i=12, acc is 0.8540289003183933\n",
      "i=13, acc is 0.8545187362233652\n",
      "i=14, acc is 0.8545187362233652\n",
      "i=15, acc is 0.8547636541758511\n",
      "i=16, acc is 0.8545187362233652\n",
      "i=17, acc is 0.8547636541758511\n",
      "i=18, acc is 0.8540289003183933\n",
      "i=19, acc is 0.8547636541758511\n",
      "i=20, acc is 0.8545187362233652\n",
      "i=21, acc is 0.855008572128337\n",
      "i=22, acc is 0.8547636541758511\n",
      "i=23, acc is 0.8547636541758511\n",
      "i=24, acc is 0.8557433259857947\n",
      "i=25, acc is 0.855008572128337\n",
      "i=26, acc is 0.8547636541758511\n",
      "i=27, acc is 0.8545187362233652\n",
      "i=28, acc is 0.8547636541758511\n",
      "i=29, acc is 0.4937545922116091\n",
      "i=30, acc is 0.8545187362233652\n",
      "i=31, acc is 0.855008572128337\n",
      "i=32, acc is 0.8547636541758511\n",
      "i=33, acc is 0.8545187362233652\n",
      "i=34, acc is 0.8540289003183933\n",
      "i=35, acc is 0.8540289003183933\n",
      "i=36, acc is 0.855008572128337\n",
      "i=37, acc is 0.8547636541758511\n",
      "i=38, acc is 0.8542738182708792\n",
      "i=39, acc is 0.8537839823659075\n",
      "i=40, acc is 0.8547636541758511\n",
      "i=41, acc is 0.855008572128337\n",
      "i=42, acc is 0.8547636541758511\n",
      "i=43, acc is 0.855008572128337\n",
      "i=44, acc is 0.8545187362233652\n",
      "i=45, acc is 0.8540289003183933\n",
      "i=46, acc is 0.8542738182708792\n",
      "i=47, acc is 0.8540289003183933\n",
      "i=48, acc is 0.855008572128337\n",
      "i=49, acc is 0.8547636541758511\n",
      "i=50, acc is 0.8547636541758511\n",
      "i=51, acc is 0.8547636541758511\n",
      "i=52, acc is 0.8547636541758511\n",
      "i=53, acc is 0.8547636541758511\n",
      "i=54, acc is 0.8540289003183933\n",
      "i=55, acc is 0.855008572128337\n",
      "i=56, acc is 0.8545187362233652\n",
      "i=57, acc is 0.855008572128337\n",
      "i=58, acc is 0.8547636541758511\n",
      "i=59, acc is 0.855008572128337\n",
      "i=60, acc is 0.8540289003183933\n",
      "i=61, acc is 0.855008572128337\n",
      "i=62, acc is 0.8547636541758511\n",
      "i=63, acc is 0.8540289003183933\n",
      "i=64, acc is 0.8545187362233652\n",
      "i=65, acc is 0.8537839823659075\n",
      "i=66, acc is 0.8540289003183933\n",
      "i=67, acc is 0.8545187362233652\n",
      "i=68, acc is 0.8540289003183933\n",
      "i=69, acc is 0.8545187362233652\n",
      "i=70, acc is 0.8545187362233652\n",
      "i=71, acc is 0.855008572128337\n",
      "i=72, acc is 0.8540289003183933\n",
      "i=73, acc is 0.8545187362233652\n",
      "i=74, acc is 0.8540289003183933\n",
      "i=75, acc is 0.8540289003183933\n",
      "i=76, acc is 0.8540289003183933\n",
      "i=77, acc is 0.8547636541758511\n",
      "i=78, acc is 0.855008572128337\n",
      "i=79, acc is 0.8540289003183933\n",
      "i=80, acc is 0.8537839823659075\n",
      "i=81, acc is 0.8545187362233652\n",
      "i=82, acc is 0.855008572128337\n",
      "i=83, acc is 0.8547636541758511\n",
      "i=84, acc is 0.8547636541758511\n",
      "i=85, acc is 0.8540289003183933\n",
      "i=86, acc is 0.8540289003183933\n",
      "i=87, acc is 0.8547636541758511\n",
      "i=88, acc is 0.8537839823659075\n",
      "i=89, acc is 0.8557433259857947\n",
      "i=90, acc is 0.8547636541758511\n",
      "i=91, acc is 0.8545187362233652\n",
      "i=92, acc is 0.8545187362233652\n",
      "i=93, acc is 0.8545187362233652\n",
      "i=94, acc is 0.8545187362233652\n",
      "i=95, acc is 0.8547636541758511\n",
      "i=96, acc is 0.855008572128337\n",
      "i=97, acc is 0.8540289003183933\n",
      "i=98, acc is 0.8547636541758511\n",
      "i=99, acc is 0.8547636541758511\n",
      "i=100, acc is 0.855008572128337\n",
      "i=101, acc is 0.8540289003183933\n",
      "i=102, acc is 0.855008572128337\n",
      "i=103, acc is 0.8547636541758511\n",
      "i=104, acc is 0.8540289003183933\n",
      "i=105, acc is 0.8540289003183933\n",
      "i=106, acc is 0.8547636541758511\n",
      "i=107, acc is 0.8545187362233652\n",
      "i=108, acc is 0.8540289003183933\n",
      "i=109, acc is 0.8537839823659075\n",
      "i=110, acc is 0.8540289003183933\n",
      "i=111, acc is 0.8545187362233652\n",
      "i=112, acc is 0.8547636541758511\n",
      "i=113, acc is 0.8540289003183933\n",
      "i=114, acc is 0.8545187362233652\n",
      "i=115, acc is 0.8547636541758511\n",
      "i=116, acc is 0.8547636541758511\n",
      "i=117, acc is 0.8545187362233652\n",
      "i=118, acc is 0.8547636541758511\n",
      "i=119, acc is 0.8547636541758511\n",
      "i=120, acc is 0.8547636541758511\n",
      "i=121, acc is 0.8547636541758511\n",
      "i=122, acc is 0.8547636541758511\n",
      "i=123, acc is 0.8547636541758511\n",
      "i=124, acc is 0.8547636541758511\n",
      "i=125, acc is 0.8547636541758511\n",
      "i=126, acc is 0.855008572128337\n",
      "i=127, acc is 0.8547636541758511\n",
      "i=128, acc is 0.8547636541758511\n",
      "i=129, acc is 0.8547636541758511\n",
      "i=130, acc is 0.8545187362233652\n",
      "i=131, acc is 0.8540289003183933\n",
      "i=132, acc is 0.8545187362233652\n",
      "i=133, acc is 0.8547636541758511\n",
      "i=134, acc is 0.8540289003183933\n",
      "i=135, acc is 0.8547636541758511\n",
      "i=136, acc is 0.8547636541758511\n",
      "i=137, acc is 0.8540289003183933\n",
      "i=138, acc is 0.6612784717119765\n",
      "i=139, acc is 0.8540289003183933\n",
      "i=140, acc is 0.8554984080333088\n",
      "i=141, acc is 0.8542738182708792\n",
      "i=142, acc is 0.855008572128337\n",
      "i=143, acc is 0.8547636541758511\n",
      "i=144, acc is 0.8540289003183933\n",
      "i=145, acc is 0.8540289003183933\n",
      "i=146, acc is 0.8540289003183933\n",
      "i=147, acc is 0.8540289003183933\n",
      "i=148, acc is 0.8547636541758511\n",
      "i=149, acc is 0.855008572128337\n",
      "i=150, acc is 0.8547636541758511\n",
      "i=151, acc is 0.8545187362233652\n",
      "i=152, acc is 0.8547636541758511\n",
      "i=153, acc is 0.8540289003183933\n",
      "i=154, acc is 0.8547636541758511\n",
      "i=155, acc is 0.8540289003183933\n",
      "i=156, acc is 0.8559882439382807\n",
      "i=157, acc is 0.8547636541758511\n",
      "i=158, acc is 0.8545187362233652\n",
      "i=159, acc is 0.8540289003183933\n",
      "i=160, acc is 0.8547636541758511\n",
      "i=161, acc is 0.855008572128337\n",
      "i=162, acc is 0.8540289003183933\n",
      "i=163, acc is 0.8547636541758511\n",
      "i=164, acc is 0.8554984080333088\n",
      "i=165, acc is 0.8547636541758511\n",
      "i=166, acc is 0.8545187362233652\n",
      "i=167, acc is 0.8547636541758511\n",
      "i=168, acc is 0.8545187362233652\n",
      "i=169, acc is 0.8540289003183933\n",
      "i=170, acc is 0.8540289003183933\n",
      "i=171, acc is 0.8547636541758511\n",
      "i=172, acc is 0.8547636541758511\n",
      "i=173, acc is 0.8554984080333088\n",
      "i=174, acc is 0.8540289003183933\n",
      "i=175, acc is 0.8540289003183933\n",
      "i=176, acc is 0.8545187362233652\n",
      "i=177, acc is 0.8545187362233652\n",
      "i=178, acc is 0.8545187362233652\n",
      "i=179, acc is 0.8547636541758511\n",
      "i=180, acc is 0.8547636541758511\n",
      "i=181, acc is 0.8540289003183933\n",
      "i=182, acc is 0.855008572128337\n",
      "i=183, acc is 0.855008572128337\n",
      "i=184, acc is 0.8547636541758511\n",
      "i=185, acc is 0.8542738182708792\n",
      "i=186, acc is 0.8545187362233652\n",
      "i=187, acc is 0.8547636541758511\n",
      "i=188, acc is 0.855008572128337\n",
      "i=189, acc is 0.8547636541758511\n",
      "i=190, acc is 0.855008572128337\n",
      "i=191, acc is 0.8540289003183933\n",
      "i=192, acc is 0.8540289003183933\n",
      "i=193, acc is 0.8545187362233652\n",
      "i=194, acc is 0.8545187362233652\n",
      "i=195, acc is 0.8545187362233652\n",
      "i=196, acc is 0.8540289003183933\n",
      "i=197, acc is 0.8540289003183933\n",
      "i=198, acc is 0.8547636541758511\n",
      "i=199, acc is 0.8540289003183933\n",
      "i=200, acc is 0.6620132255694342\n",
      "i=201, acc is 0.8545187362233652\n",
      "i=202, acc is 0.8547636541758511\n",
      "i=203, acc is 0.855008572128337\n",
      "i=204, acc is 0.8547636541758511\n",
      "i=205, acc is 0.8545187362233652\n",
      "i=206, acc is 0.855008572128337\n",
      "i=207, acc is 0.8547636541758511\n",
      "i=208, acc is 0.8547636541758511\n",
      "i=209, acc is 0.8540289003183933\n",
      "i=210, acc is 0.8545187362233652\n",
      "i=211, acc is 0.855008572128337\n",
      "i=212, acc is 0.8547636541758511\n",
      "i=213, acc is 0.855008572128337\n",
      "i=214, acc is 0.8540289003183933\n",
      "i=215, acc is 0.855008572128337\n",
      "i=216, acc is 0.8540289003183933\n",
      "i=217, acc is 0.8540289003183933\n",
      "i=218, acc is 0.8547636541758511\n",
      "i=219, acc is 0.8547636541758511\n",
      "i=220, acc is 0.8547636541758511\n",
      "i=221, acc is 0.8547636541758511\n",
      "i=222, acc is 0.8540289003183933\n",
      "i=223, acc is 0.8547636541758511\n",
      "i=224, acc is 0.8547636541758511\n",
      "i=225, acc is 0.8547636541758511\n",
      "i=226, acc is 0.8540289003183933\n",
      "i=227, acc is 0.8540289003183933\n",
      "i=228, acc is 0.8540289003183933\n",
      "i=229, acc is 0.8540289003183933\n",
      "i=230, acc is 0.8540289003183933\n",
      "i=231, acc is 0.855008572128337\n",
      "i=232, acc is 0.8547636541758511\n",
      "i=233, acc is 0.8537839823659075\n",
      "i=234, acc is 0.8547636541758511\n",
      "i=235, acc is 0.8545187362233652\n",
      "i=236, acc is 0.8542738182708792\n",
      "i=237, acc is 0.8547636541758511\n",
      "i=238, acc is 0.8540289003183933\n",
      "i=239, acc is 0.8545187362233652\n",
      "i=240, acc is 0.8545187362233652\n",
      "i=241, acc is 0.8547636541758511\n",
      "i=242, acc is 0.8545187362233652\n",
      "i=243, acc is 0.8547636541758511\n",
      "i=244, acc is 0.8545187362233652\n",
      "i=245, acc is 0.855008572128337\n",
      "i=246, acc is 0.8545187362233652\n",
      "i=247, acc is 0.8547636541758511\n",
      "i=248, acc is 0.603722752877786\n",
      "i=249, acc is 0.8547636541758511\n"
     ]
    }
   ],
   "source": [
    "from sklearn.utils import class_weight\n",
    "num_trials = 250\n",
    "subsample_rate = int(0.5*train_len)\n",
    "\n",
    "# K MEANS\n",
    "avg_acc = 0\n",
    "for i in range(num_trials):\n",
    "    shuffled_x1, shuffled_y1 = shuffle(train_x, train_y)\n",
    "    shuffled_x1, shuffled_y1 = get_samples_safe(shuffled_x1, shuffled_y1, num_classes, subsample_rate)\n",
    "#     sm = SMOTE()\n",
    "#     X_res, y_res = sm.fit_resample(shuffled_x1, shuffled_y1)\n",
    "    model, cluster_centers = run_kmeans(X_res, y_res, num_clusters=num_classes, seed=i)\n",
    "    predictions = model.predict(test_x)\n",
    "    acc = accuracy_score(test_y, predictions)\n",
    "    print(f'i={i}, acc is {acc}')\n",
    "    avg_acc += acc\n",
    "avg_acc /= num_trials\n",
    "\n",
    "# 1/"
   ]
  },
  {
   "cell_type": "code",
   "execution_count": 56,
   "id": "f54e0b2a",
   "metadata": {},
   "outputs": [
    {
     "data": {
      "text/plain": [
       "0.831754102375704"
      ]
     },
     "execution_count": 56,
     "metadata": {},
     "output_type": "execute_result"
    }
   ],
   "source": [
    "avg_acc"
   ]
  },
  {
   "cell_type": "code",
   "execution_count": 31,
   "id": "e97cc1e2",
   "metadata": {},
   "outputs": [],
   "source": [
    "from sklearn.cluster import KMeans\n"
   ]
  },
  {
   "cell_type": "code",
   "execution_count": 33,
   "id": "37492590",
   "metadata": {},
   "outputs": [
    {
     "ename": "TypeError",
     "evalue": "__init__() got an unexpected keyword argument 'return_n_iter'",
     "output_type": "error",
     "traceback": [
      "\u001b[0;31m---------------------------------------------------------------------------\u001b[0m",
      "\u001b[0;31mTypeError\u001b[0m                                 Traceback (most recent call last)",
      "Input \u001b[0;32mIn [33]\u001b[0m, in \u001b[0;36m<cell line: 1>\u001b[0;34m()\u001b[0m\n\u001b[0;32m----> 1\u001b[0m \u001b[43mKMeans\u001b[49m\u001b[43m(\u001b[49m\u001b[43mn_clusters\u001b[49m\u001b[38;5;241;43m=\u001b[39;49m\u001b[38;5;241;43m10\u001b[39;49m\u001b[43m,\u001b[49m\u001b[43m \u001b[49m\u001b[43mrandom_state\u001b[49m\u001b[38;5;241;43m=\u001b[39;49m\u001b[38;5;28;43;01mNone\u001b[39;49;00m\u001b[43m,\u001b[49m\n\u001b[1;32m      2\u001b[0m \u001b[43m                   \u001b[49m\u001b[43mmax_iter\u001b[49m\u001b[43m \u001b[49m\u001b[38;5;241;43m=\u001b[39;49m\u001b[43m \u001b[49m\u001b[38;5;241;43m1000\u001b[39;49m\u001b[43m,\u001b[49m\u001b[43m \u001b[49m\u001b[43mn_init\u001b[49m\u001b[38;5;241;43m=\u001b[39;49m\u001b[38;5;241;43m10\u001b[39;49m\u001b[43m,\u001b[49m\u001b[43m \u001b[49m\u001b[43mreturn_n_iter\u001b[49m\u001b[38;5;241;43m=\u001b[39;49m\u001b[38;5;28;43;01mFalse\u001b[39;49;00m\u001b[43m)\u001b[49m\n",
      "\u001b[0;31mTypeError\u001b[0m: __init__() got an unexpected keyword argument 'return_n_iter'"
     ]
    }
   ],
   "source": [
    "KMeans(n_clusters=10, random_state=None,\n",
    "                   max_iter = 1000, n_init=10, return_n_iter=False)"
   ]
  },
  {
   "cell_type": "code",
   "execution_count": 34,
   "id": "e6ca01c1",
   "metadata": {},
   "outputs": [],
   "source": [
    "from sklearn.cluster import kmeans_plusplus"
   ]
  },
  {
   "cell_type": "code",
   "execution_count": 36,
   "id": "9f2cde05",
   "metadata": {},
   "outputs": [],
   "source": [
    "centers, indices = kmeans_plusplus(train_x, n_clusters=2, random_state=0)"
   ]
  },
  {
   "cell_type": "code",
   "execution_count": 37,
   "id": "59ec11ee",
   "metadata": {},
   "outputs": [
    {
     "data": {
      "text/plain": [
       "array([[0.03888196, 0.08302148, 0.09594299, 0.1110889 , 0.3239974 ,\n",
       "        0.74853938, 0.03835895, 0.07999182, 0.80444649, 0.86588474,\n",
       "        0.79725713, 0.51326398, 0.68349399, 0.53449123, 0.46005332,\n",
       "        0.84681744],\n",
       "       [0.16963142, 0.29628161, 0.36181116, 0.23192067, 0.63303858,\n",
       "        0.91527671, 0.1652836 , 0.28297299, 0.69180984, 0.93292515,\n",
       "        0.66818607, 0.22826845, 0.47107852, 0.15928971, 0.19074727,\n",
       "        0.84658251]])"
      ]
     },
     "execution_count": 37,
     "metadata": {},
     "output_type": "execute_result"
    }
   ],
   "source": [
    "centers"
   ]
  },
  {
   "cell_type": "code",
   "execution_count": 41,
   "id": "859b4ae7",
   "metadata": {},
   "outputs": [
    {
     "data": {
      "text/plain": [
       "array([2732, 5578])"
      ]
     },
     "execution_count": 41,
     "metadata": {},
     "output_type": "execute_result"
    }
   ],
   "source": [
    "indices"
   ]
  },
  {
   "cell_type": "code",
   "execution_count": 19,
   "id": "9b86d397",
   "metadata": {},
   "outputs": [
    {
     "data": {
      "text/plain": [
       "9527"
      ]
     },
     "execution_count": 19,
     "metadata": {},
     "output_type": "execute_result"
    }
   ],
   "source": [
    "len(shuffled_y1)"
   ]
  },
  {
   "cell_type": "code",
   "execution_count": 30,
   "id": "e9b3481c",
   "metadata": {},
   "outputs": [],
   "source": [
    "weights = []\n",
    "for i in range(7):\n",
    "    weights.append(1 / (len([ind for ind in range(len(train_y)) if train_y[ind] == i]) / train_len))"
   ]
  },
  {
   "cell_type": "code",
   "execution_count": 31,
   "id": "bb54f9d3",
   "metadata": {},
   "outputs": [
    {
     "data": {
      "text/plain": [
       "[5.144168466522679,\n",
       " 6.964181286549708,\n",
       " 25.203703703703702,\n",
       " 3.8477382875605817,\n",
       " 6.809864188706219,\n",
       " 10.446271929824562,\n",
       " 8.342381786339756]"
      ]
     },
     "execution_count": 31,
     "metadata": {},
     "output_type": "execute_result"
    }
   ],
   "source": [
    "weights"
   ]
  },
  {
   "cell_type": "code",
   "execution_count": null,
   "id": "6e4b5c79",
   "metadata": {},
   "outputs": [],
   "source": []
  }
 ],
 "metadata": {
  "kernelspec": {
   "display_name": "Python 3 (ipykernel)",
   "language": "python",
   "name": "python3"
  },
  "language_info": {
   "codemirror_mode": {
    "name": "ipython",
    "version": 3
   },
   "file_extension": ".py",
   "mimetype": "text/x-python",
   "name": "python",
   "nbconvert_exporter": "python",
   "pygments_lexer": "ipython3",
   "version": "3.9.17"
  }
 },
 "nbformat": 4,
 "nbformat_minor": 5
}
