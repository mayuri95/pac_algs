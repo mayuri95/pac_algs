{
 "cells": [
  {
   "cell_type": "code",
   "execution_count": 1,
   "id": "75abefb5",
   "metadata": {},
   "outputs": [],
   "source": [
    "from algs_lib import *\n",
    "from scipy import stats"
   ]
  },
  {
   "cell_type": "code",
   "execution_count": 3,
   "id": "303932eb",
   "metadata": {},
   "outputs": [],
   "source": [
    "all_data = {}\n",
    "for data in ['iris', 'rice', 'bean']:\n",
    "    fname_local = f'mean_dists/global_{data}_mean_dist.pkl'\n",
    "    if data not in all_data:\n",
    "        all_data[data] = {}\n",
    "    all_data[data]['local'] = pickle.load(open(fname_local, 'rb'))['individual']\n",
    "    fname_global = f'mean_dists/global_{data}_mean_dist.pkl'\n",
    "    global_data = pickle.load(open(fname_global, 'rb'))\n",
    "    all_data[data]['global'] = global_data['global']\n",
    "    all_data[data]['dp'] = global_data['dp']"
   ]
  },
  {
   "cell_type": "code",
   "execution_count": 4,
   "id": "03ec67c7",
   "metadata": {},
   "outputs": [
    {
     "name": "stdout",
     "output_type": "stream",
     "text": [
      "1.137818261290776\n",
      "1.1131056516502416\n",
      "1.1270197063430685\n",
      "1.617984159016757\n",
      "1.6818536655933851\n",
      "1.6865962895843374\n",
      "2.087584400794275\n",
      "2.192632896719595\n",
      "2.1554819451373928\n"
     ]
    }
   ],
   "source": [
    "for k in ['global']:\n",
    "    for data in ['iris', 'rice', 'bean']:\n",
    "        for mi in [1/4, 1/16, 1/64]:\n",
    "            aniso = all_data[data][k][mi][1]\n",
    "            iso = all_data[data][k][mi][2]\n",
    "            print(iso/aniso)"
   ]
  },
  {
   "cell_type": "code",
   "execution_count": null,
   "id": "10a815e7",
   "metadata": {},
   "outputs": [],
   "source": []
  }
 ],
 "metadata": {
  "kernelspec": {
   "display_name": "Python 3 (ipykernel)",
   "language": "python",
   "name": "python3"
  },
  "language_info": {
   "codemirror_mode": {
    "name": "ipython",
    "version": 3
   },
   "file_extension": ".py",
   "mimetype": "text/x-python",
   "name": "python",
   "nbconvert_exporter": "python",
   "pygments_lexer": "ipython3",
   "version": "3.9.17"
  }
 },
 "nbformat": 4,
 "nbformat_minor": 5
}
