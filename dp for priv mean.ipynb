{
 "cells": [
  {
   "cell_type": "code",
   "execution_count": 39,
   "id": "75abefb5",
   "metadata": {},
   "outputs": [],
   "source": [
    "from algs_lib import *\n"
   ]
  },
  {
   "cell_type": "code",
   "execution_count": 40,
   "id": "bcd95edd",
   "metadata": {},
   "outputs": [],
   "source": [
    "def clip_to_threshold(vec, c):\n",
    "    curr_norm = np.linalg.norm(vec)\n",
    "    if curr_norm <= c:\n",
    "        return vec\n",
    "    clip_ratio = c / curr_norm\n",
    "    return [vec[i]*clip_ratio for i in range(len(vec))]"
   ]
  },
  {
   "cell_type": "code",
   "execution_count": 41,
   "id": "82529d53",
   "metadata": {},
   "outputs": [],
   "source": [
    "def add_noise(scale):\n",
    "    return np.random.laplace(0, scale)\n",
    "# global sensitivity is C/n i think?\n",
    "# so scale should be (C/n) / \\epsilon per elem?"
   ]
  },
  {
   "cell_type": "code",
   "execution_count": 42,
   "id": "94210938",
   "metadata": {},
   "outputs": [],
   "source": [
    "def calc_posterior(mi, prior=0.5, prec = 100000):\n",
    "    test_vals = [x / prec for x in range(1, prec)]\n",
    "    max_t = None\n",
    "    for t in test_vals:\n",
    "        if t*np.log(t/prior)+(1-t)*np.log((1-t)/(1-prior)) <= mi:\n",
    "            if  max_t is None or t > max_t:\n",
    "                max_t = t\n",
    "    return max_t\n",
    "\n",
    "def dp_epsilon_to_posterior_success(epsilon):\n",
    "    return 1 - 1./(1+np.exp(epsilon))\n",
    "\n",
    "def dp_ps_to_epsilon(ps):\n",
    "    return np.log(ps / (1-ps))"
   ]
  },
  {
   "cell_type": "code",
   "execution_count": 43,
   "id": "ea8b3307",
   "metadata": {},
   "outputs": [
    {
     "data": {
      "text/plain": [
       "0.99999"
      ]
     },
     "execution_count": 43,
     "metadata": {},
     "output_type": "execute_result"
    }
   ],
   "source": [
    "calc_posterior(1.)"
   ]
  },
  {
   "cell_type": "code",
   "execution_count": 45,
   "id": "f9873d8d",
   "metadata": {},
   "outputs": [],
   "source": [
    "def hybrid_noise_auto(train_x, train_y, subsample_rate, num_classes,\n",
    "    eta, regularize=None, num_trees=None, tree_depth = None, max_mi = 0.5, num_dims = None):\n",
    "\n",
    "    sec_v = max_mi / 2\n",
    "    sec_beta = max_mi - sec_v\n",
    "    r = calc_r(train_x)\n",
    "    gamma = 0.01\n",
    "    avg_dist = 0.\n",
    "    curr_est = None\n",
    "    converged = False\n",
    "    curr_trial = 0\n",
    "\n",
    "    if num_classes is None:\n",
    "        num_classes = len(set(train_y))\n",
    "\n",
    "    assert subsample_rate >= num_classes\n",
    "\n",
    "    est_y = {}\n",
    "    prev_ests = None\n",
    "    # 10*c*v\n",
    "    seed = np.random.randint(1, 100000)\n",
    "\n",
    "    s1 = None # only relevant for PCA\n",
    "    \n",
    "    while not converged:\n",
    "        shuffled_x, shuffled_y = shuffle(train_x, train_y)\n",
    "        \n",
    "        shuffled_x, shuffled_y = get_samples_safe(shuffled_x, shuffled_y, num_classes, subsample_rate)\n",
    "        \n",
    "        output = np.average(shuffled_x, axis=0)\n",
    "\n",
    "        for ind in range(len(output)):\n",
    "            if ind not in est_y:\n",
    "                est_y[ind] = []\n",
    "            est_y[ind].append(output[ind])\n",
    "\n",
    "        if curr_trial % 10 == 0:        \n",
    "            if prev_ests is None:\n",
    "                prev_ests = {}\n",
    "                for ind in est_y:\n",
    "                    prev_ests[ind] = np.var(est_y[ind])\n",
    "            else:\n",
    "                converged = True\n",
    "                for ind in est_y:\n",
    "                    if abs(np.var(est_y[ind]) - prev_ests[ind]) > eta:\n",
    "                        converged = False\n",
    "                if not converged:\n",
    "                    for ind in est_y:\n",
    "                        prev_ests[ind] = np.var(est_y[ind])\n",
    "        curr_trial += 1\n",
    "    fin_var = {ind: np.var(est_y[ind]) for ind in est_y}\n",
    "\n",
    "    noise = {}\n",
    "    sqrt_total_var = sum([fin_var[x]**0.5 for x in fin_var])\n",
    "    for ind in fin_var:\n",
    "        noise[ind] = 1./(2*max_mi) * fin_var[ind]**0.5 * sqrt_total_var\n",
    "    return noise"
   ]
  },
  {
   "cell_type": "code",
   "execution_count": 71,
   "id": "b3e34fd8",
   "metadata": {},
   "outputs": [
    {
     "name": "stdout",
     "output_type": "stream",
     "text": [
      "10.5256828757093\n"
     ]
    }
   ],
   "source": [
    "train_x, train_y, test_x, test_y, num_classes, train_len = gen_iris(normalize=False)\n",
    "\n",
    "norms = [np.linalg.norm(x) for x in train_x]\n",
    "print(max(norms))"
   ]
  },
  {
   "cell_type": "code",
   "execution_count": 72,
   "id": "42e5d7d4",
   "metadata": {},
   "outputs": [
    {
     "name": "stdout",
     "output_type": "stream",
     "text": [
      "[11.51291546492478, 1.6426117097961406, 0.7304317044395013, 0.3563228120191924]\n",
      "[0.99999, 0.83789, 0.6749, 0.58815]\n"
     ]
    }
   ],
   "source": [
    "true_mean = np.average(train_x, axis=0)\n",
    "\n",
    "mi_range = [1.0, 0.25, 0.0625, 0.015625]\n",
    "posterior_success_rates = [calc_posterior(mi) for mi in mi_range]\n",
    "epsilon_vals = [dp_ps_to_epsilon(ps) for ps in posterior_success_rates]\n",
    "\n",
    "print(epsilon_vals)\n",
    "print([x for x in posterior_success_rates])"
   ]
  },
  {
   "cell_type": "code",
   "execution_count": 73,
   "id": "8dac0bb3",
   "metadata": {},
   "outputs": [],
   "source": [
    "# DP MEAN\n",
    "dp_dists = {}\n",
    "num_trials = 1000\n",
    "for eps in epsilon_vals:\n",
    "    avg_dist_dp = {}\n",
    "    for i in range(1, 110):\n",
    "        clip_budget = i / 10\n",
    "        clipped_train_x = [clip_to_threshold(train_x[i], clip_budget) for i in range(len(train_x))]\n",
    "        released_mean = np.average(clipped_train_x, axis=0)\n",
    "        clip_dist = np.linalg.norm(released_mean - true_mean)\n",
    "        dist = 0.\n",
    "        sensitivity = clip_budget / train_len\n",
    "        for _ in range(num_trials):\n",
    "            released_mean = np.average(clipped_train_x, axis=0)\n",
    "            for ind in range(len(released_mean)):\n",
    "                sensitivity = clip_budget / train_len\n",
    "                released_mean[ind] += add_noise(sensitivity/eps)\n",
    "            dist += np.linalg.norm(released_mean - true_mean)\n",
    "        dist /= num_trials\n",
    "        avg_dist_dp[i] = (clip_dist, dist)\n",
    "    dp_key = min(avg_dist_dp.items(), key=lambda x: x[1][1])[0]\n",
    "    dp_dists[eps] = avg_dist_dp[dp_key]\n"
   ]
  },
  {
   "cell_type": "code",
   "execution_count": 74,
   "id": "1de7c6e6",
   "metadata": {},
   "outputs": [
    {
     "data": {
      "text/plain": [
       "{11.51291546492478: (0.0033028177886092872, 0.02264604587884551),\n",
       " 1.6426117097961406: (0.029059525838498572, 0.1484504726368023),\n",
       " 0.7304317044395013: (0.037669177813089136, 0.3253594708011076),\n",
       " 0.3563228120191924: (0.11073965010428659, 0.640035299480314)}"
      ]
     },
     "execution_count": 74,
     "metadata": {},
     "output_type": "execute_result"
    }
   ],
   "source": [
    "dp_dists"
   ]
  },
  {
   "cell_type": "code",
   "execution_count": 75,
   "id": "1429e682",
   "metadata": {},
   "outputs": [],
   "source": [
    "# PAC MEAN\n",
    "train_x, train_y, test_x, test_y, num_classes, train_len = gen_iris(normalize=False)\n",
    "true_mean = np.average(train_x, axis=0)\n",
    "\n",
    "norms = [np.linalg.norm(x) for x in train_x]\n",
    "# print(max(norms))\n",
    "\n",
    "subsample_rate = int(0.5*train_len)\n",
    "\n",
    "noise = hybrid_noise_auto(train_x, train_y, subsample_rate, num_classes, 1e-6)\n",
    "\n",
    "pac_dists = {}\n",
    "num_trials = 1000\n",
    "\n",
    "for mi in mi_range:\n",
    "    scaled_noise = {k: noise[k] * (0.5 / mi) for k in noise}\n",
    "    iso_noise = max(scaled_noise.values())\n",
    "    iso_scaled = {k: iso_noise for k in noise}\n",
    "    avg_dist_pac = 0\n",
    "    avg_iso_dist_pac = 0\n",
    "    subsampled_dist = 0\n",
    "    for _ in range(num_trials):\n",
    "        shuffled_x1, shuffled_y1 = shuffle(train_x, train_y)\n",
    "        shuffled_x1, shuffled_y1 = get_samples_safe(shuffled_x1, shuffled_y1, num_classes, subsample_rate)\n",
    "        released_mean = np.average(shuffled_x1, axis=0)\n",
    "        subsampled_dist += np.linalg.norm(released_mean - true_mean)\n",
    "        for ind in range(len(released_mean)):\n",
    "            c = np.random.normal(0, scale=scaled_noise[ind])\n",
    "            released_mean[ind] += c\n",
    "        avg_dist_pac += np.linalg.norm(released_mean - true_mean)\n",
    "    for _ in range(num_trials):\n",
    "        shuffled_x1, shuffled_y1 = shuffle(train_x, train_y)\n",
    "        shuffled_x1, shuffled_y1 = get_samples_safe(shuffled_x1, shuffled_y1, num_classes, subsample_rate)\n",
    "        released_mean = np.average(shuffled_x1, axis=0)\n",
    "        for ind in range(len(released_mean)):\n",
    "            c = np.random.normal(0, scale=iso_scaled[ind])\n",
    "            released_mean[ind] += c\n",
    "        avg_iso_dist_pac += np.linalg.norm(released_mean - true_mean)\n",
    "    avg_iso_dist_pac /= num_trials\n",
    "    avg_dist_pac /= num_trials\n",
    "    subsampled_dist /= num_trials\n",
    "    pac_dists[mi] = (subsampled_dist, avg_dist_pac, avg_iso_dist_pac)"
   ]
  },
  {
   "cell_type": "code",
   "execution_count": 76,
   "id": "d93b3336",
   "metadata": {},
   "outputs": [
    {
     "data": {
      "text/plain": [
       "{1.0: (0.1833370805904014, 0.18488085550303998, 0.18672833086769447),\n",
       " 0.25: (0.17155257051618994, 0.22048175977548357, 0.30099991543834453),\n",
       " 0.0625: (0.17315374929370478, 0.5727056254379056, 0.933757243359157),\n",
       " 0.015625: (0.17599550552376558, 2.1872905843053476, 3.733886299234875)}"
      ]
     },
     "execution_count": 76,
     "metadata": {},
     "output_type": "execute_result"
    }
   ],
   "source": [
    "pac_dists"
   ]
  },
  {
   "cell_type": "code",
   "execution_count": 77,
   "id": "559fd53b",
   "metadata": {},
   "outputs": [],
   "source": [
    "train_x, train_y, test_x, test_y, num_classes, train_len = gen_bean(normalize=True)"
   ]
  },
  {
   "cell_type": "code",
   "execution_count": 78,
   "id": "81d933e1",
   "metadata": {},
   "outputs": [
    {
     "name": "stdout",
     "output_type": "stream",
     "text": [
      "2.989481085350122\n"
     ]
    }
   ],
   "source": [
    "true_mean = np.average(train_x, axis=0)\n",
    "\n",
    "norms = [np.linalg.norm(x) for x in train_x]\n",
    "print(max(norms))"
   ]
  },
  {
   "cell_type": "code",
   "execution_count": 79,
   "id": "5cb0127a",
   "metadata": {},
   "outputs": [
    {
     "data": {
      "text/plain": [
       "array([0.13983595, 0.22699883, 0.24666734, 0.23664163, 0.39805406,\n",
       "       0.76834721, 0.13689441, 0.22559247, 0.62622439, 0.89969561,\n",
       "       0.76509316, 0.45884769, 0.49295364, 0.3708321 , 0.41278467,\n",
       "       0.90979207])"
      ]
     },
     "execution_count": 79,
     "metadata": {},
     "output_type": "execute_result"
    }
   ],
   "source": [
    "true_mean"
   ]
  },
  {
   "cell_type": "code",
   "execution_count": 80,
   "id": "1cc5c195",
   "metadata": {},
   "outputs": [],
   "source": [
    "# DP MEAN\n",
    "dp_dists = {}\n",
    "num_trials = 1000\n",
    "\n",
    "for eps in epsilon_vals:\n",
    "    avg_dist_dp = {}\n",
    "    for i in range(1, 31):\n",
    "        clip_budget = i/10\n",
    "        clipped_train_x = [clip_to_threshold(train_x[i], clip_budget) for i in range(len(train_x))]\n",
    "        released_mean = np.average(clipped_train_x, axis=0)\n",
    "        clip_dist = np.linalg.norm(released_mean - true_mean)\n",
    "        dist = 0.\n",
    "        for _ in range(num_trials):\n",
    "            released_mean = np.average(clipped_train_x, axis=0)\n",
    "            for ind in range(len(released_mean)):\n",
    "                sensitivity = clip_budget / train_len \n",
    "                released_mean[ind] += add_noise(sensitivity / eps)\n",
    "            dist += np.linalg.norm(released_mean - true_mean)\n",
    "        dist /= num_trials\n",
    "        avg_dist_dp[i] = (clip_dist, dist)\n",
    "    dp_key = min(avg_dist_dp.items(), key=lambda x: x[1][1])[0]\n",
    "    dp_dists[eps] = avg_dist_dp[dp_key]\n"
   ]
  },
  {
   "cell_type": "code",
   "execution_count": 81,
   "id": "9188f447",
   "metadata": {},
   "outputs": [
    {
     "data": {
      "text/plain": [
       "{11.51291546492478: (0.0, 0.00015006824580085908),\n",
       " 1.6426117097961406: (0.00022235407709886266, 0.0010111456603110356),\n",
       " 0.7304317044395013: (0.00022235407709886266, 0.0021773410426364865),\n",
       " 0.3563228120191924: (0.0008748404929961534, 0.004455310566051728)}"
      ]
     },
     "execution_count": 81,
     "metadata": {},
     "output_type": "execute_result"
    }
   ],
   "source": [
    "dp_dists"
   ]
  },
  {
   "cell_type": "code",
   "execution_count": 82,
   "id": "8569732c",
   "metadata": {},
   "outputs": [
    {
     "data": {
      "text/plain": [
       "[(0.0, 0.00015006824580085908),\n",
       " (0.00022235407709886266, 0.0010111456603110356),\n",
       " (0.00022235407709886266, 0.0021773410426364865),\n",
       " (0.0008748404929961534, 0.004455310566051728)]"
      ]
     },
     "execution_count": 82,
     "metadata": {},
     "output_type": "execute_result"
    }
   ],
   "source": [
    "[dp_dists[x] for x in dp_dists]"
   ]
  },
  {
   "cell_type": "code",
   "execution_count": 83,
   "id": "fbd34b8c",
   "metadata": {},
   "outputs": [],
   "source": [
    "# PAC MEAN\n",
    "subsample_rate = int(0.5*train_len)\n",
    "\n",
    "noise = hybrid_noise_auto(train_x, train_y, subsample_rate, num_classes, 1e-6)\n",
    "\n",
    "pac_dists = {}\n",
    "num_trials = 1000\n",
    "\n",
    "for mi in mi_range:\n",
    "    scaled_noise = {k: noise[k] * (0.5 / mi) for k in noise}\n",
    "    iso_noise = max(scaled_noise.values())\n",
    "    iso_scaled = {k: iso_noise for k in noise}\n",
    "    avg_dist_pac = 0\n",
    "    avg_iso_dist_pac = 0\n",
    "    subsampled_dist = 0\n",
    "    for _ in range(num_trials):\n",
    "        shuffled_x1, shuffled_y1 = shuffle(train_x, train_y)\n",
    "        shuffled_x1, shuffled_y1 = get_samples_safe(shuffled_x1, shuffled_y1, num_classes, subsample_rate)\n",
    "        released_mean = np.average(shuffled_x1, axis=0)\n",
    "        subsampled_dist += np.linalg.norm(released_mean - true_mean)\n",
    "        for ind in range(len(released_mean)):\n",
    "            c = np.random.normal(0, scale=scaled_noise[ind])\n",
    "            released_mean[ind] += c\n",
    "        avg_dist_pac += np.linalg.norm(released_mean - true_mean)\n",
    "    for _ in range(num_trials):\n",
    "        shuffled_x1, shuffled_y1 = shuffle(train_x, train_y)\n",
    "        shuffled_x1, shuffled_y1 = get_samples_safe(shuffled_x1, shuffled_y1, num_classes, subsample_rate)\n",
    "        released_mean = np.average(shuffled_x1, axis=0)\n",
    "        for ind in range(len(released_mean)):\n",
    "            c = np.random.normal(0, scale=iso_scaled[ind])\n",
    "            released_mean[ind] += c\n",
    "        avg_iso_dist_pac += np.linalg.norm(released_mean - true_mean)\n",
    "    avg_iso_dist_pac /= num_trials\n",
    "    avg_dist_pac /= num_trials\n",
    "    subsampled_dist /= num_trials\n",
    "    pac_dists[mi] = (subsampled_dist, avg_dist_pac, avg_iso_dist_pac)"
   ]
  },
  {
   "cell_type": "code",
   "execution_count": 84,
   "id": "5ab9f416",
   "metadata": {},
   "outputs": [
    {
     "data": {
      "text/plain": [
       "{1.0: (0.005419380181007873, 0.005419772757532086, 0.005360990985781511),\n",
       " 0.25: (0.005518133864130868, 0.00552266447098752, 0.005364708104027236),\n",
       " 0.0625: (0.005517902070771221, 0.005597313450164743, 0.005460130609496094),\n",
       " 0.015625: (0.005323597408348473, 0.006379864958697195, 0.007060470820374045)}"
      ]
     },
     "execution_count": 84,
     "metadata": {},
     "output_type": "execute_result"
    }
   ],
   "source": [
    "pac_dists"
   ]
  },
  {
   "cell_type": "code",
   "execution_count": 85,
   "id": "f95fbddb",
   "metadata": {},
   "outputs": [],
   "source": [
    "# RICE"
   ]
  },
  {
   "cell_type": "code",
   "execution_count": 86,
   "id": "7351afed",
   "metadata": {},
   "outputs": [],
   "source": [
    "train_x, train_y, test_x, test_y, num_classes, train_len = gen_rice(normalize=True)"
   ]
  },
  {
   "cell_type": "code",
   "execution_count": 87,
   "id": "963bb53d",
   "metadata": {},
   "outputs": [
    {
     "name": "stdout",
     "output_type": "stream",
     "text": [
      "2.399557199470374\n"
     ]
    }
   ],
   "source": [
    "true_mean = np.average(train_x, axis=0)\n",
    "\n",
    "norms = [np.linalg.norm(x) for x in train_x]\n",
    "print(max(norms))"
   ]
  },
  {
   "cell_type": "code",
   "execution_count": 88,
   "id": "914db068",
   "metadata": {},
   "outputs": [
    {
     "data": {
      "text/plain": [
       "array([0.45343291, 0.50607844, 0.46734053, 0.55984097, 0.6425448 ,\n",
       "       0.46285337, 0.45145814])"
      ]
     },
     "execution_count": 88,
     "metadata": {},
     "output_type": "execute_result"
    }
   ],
   "source": [
    "true_mean"
   ]
  },
  {
   "cell_type": "code",
   "execution_count": 89,
   "id": "d11e9511",
   "metadata": {},
   "outputs": [],
   "source": [
    "# DP MEAN\n",
    "dp_dists = {}\n",
    "num_trials = 1000\n",
    "\n",
    "for eps in epsilon_vals:\n",
    "    avg_dist_dp = {}\n",
    "    for i in range(1, 3):\n",
    "        clip_budget = i\n",
    "        clipped_train_x = [clip_to_threshold(train_x[i], clip_budget) for i in range(len(train_x))]\n",
    "        released_mean = np.average(clipped_train_x, axis=0)\n",
    "        clip_dist = np.linalg.norm(released_mean - true_mean)\n",
    "        dist = 0.\n",
    "        for _ in range(num_trials):\n",
    "            released_mean = np.average(clipped_train_x, axis=0)\n",
    "            for ind in range(len(released_mean)):\n",
    "                sensitivity = clip_budget / train_len \n",
    "                released_mean[ind] += add_noise(sensitivity / eps)\n",
    "            dist += np.linalg.norm(released_mean - true_mean)\n",
    "        dist /= num_trials\n",
    "        avg_dist_dp[i] = (clip_dist, dist)\n",
    "    dp_key = min(avg_dist_dp.items(), key=lambda x: x[1][1])[0]\n",
    "    dp_dists[eps] = avg_dist_dp[dp_key]\n"
   ]
  },
  {
   "cell_type": "code",
   "execution_count": 90,
   "id": "f84fb3dc",
   "metadata": {},
   "outputs": [
    {
     "data": {
      "text/plain": [
       "{11.51291546492478: (0.0017379061286585567, 0.0017539046053067751),\n",
       " 1.6426117097961406: (0.0017379061286585567, 0.002354901839435473),\n",
       " 0.7304317044395013: (0.0017379061286585567, 0.0039036176494739692),\n",
       " 0.3563228120191924: (0.0017379061286585567, 0.007494171497036016)}"
      ]
     },
     "execution_count": 90,
     "metadata": {},
     "output_type": "execute_result"
    }
   ],
   "source": [
    "dp_dists"
   ]
  },
  {
   "cell_type": "code",
   "execution_count": 91,
   "id": "d7e8af07",
   "metadata": {},
   "outputs": [],
   "source": [
    "# PAC MEAN\n",
    "subsample_rate = int(0.5*train_len)\n",
    "\n",
    "noise = hybrid_noise_auto(train_x, train_y, subsample_rate, num_classes, 1e-6)\n",
    "\n",
    "pac_dists = {}\n",
    "num_trials = 1000\n",
    "\n",
    "for mi in mi_range:\n",
    "    scaled_noise = {k: noise[k] * (0.5 / mi) for k in noise}\n",
    "    iso_noise = max(scaled_noise.values())\n",
    "    iso_scaled = {k: iso_noise for k in noise}\n",
    "    avg_dist_pac = 0\n",
    "    avg_iso_dist_pac = 0\n",
    "    subsampled_dist = 0\n",
    "    for _ in range(num_trials):\n",
    "        shuffled_x1, shuffled_y1 = shuffle(train_x, train_y)\n",
    "        shuffled_x1, shuffled_y1 = get_samples_safe(shuffled_x1, shuffled_y1, num_classes, subsample_rate)\n",
    "        released_mean = np.average(shuffled_x1, axis=0)\n",
    "        subsampled_dist += np.linalg.norm(released_mean - true_mean)\n",
    "        for ind in range(len(released_mean)):\n",
    "            c = np.random.normal(0, scale=scaled_noise[ind])\n",
    "            released_mean[ind] += c\n",
    "        avg_dist_pac += np.linalg.norm(released_mean - true_mean)\n",
    "    for _ in range(num_trials):\n",
    "        shuffled_x1, shuffled_y1 = shuffle(train_x, train_y)\n",
    "        shuffled_x1, shuffled_y1 = get_samples_safe(shuffled_x1, shuffled_y1, num_classes, subsample_rate)\n",
    "        released_mean = np.average(shuffled_x1, axis=0)\n",
    "        for ind in range(len(released_mean)):\n",
    "            c = np.random.normal(0, scale=iso_scaled[ind])\n",
    "            released_mean[ind] += c\n",
    "        avg_iso_dist_pac += np.linalg.norm(released_mean - true_mean)\n",
    "    avg_iso_dist_pac /= num_trials\n",
    "    avg_dist_pac /= num_trials\n",
    "    subsampled_dist /= num_trials\n",
    "    pac_dists[mi] = (subsampled_dist, avg_dist_pac, avg_iso_dist_pac)"
   ]
  },
  {
   "cell_type": "code",
   "execution_count": 92,
   "id": "c73c4799",
   "metadata": {},
   "outputs": [
    {
     "data": {
      "text/plain": [
       "{1.0: (0.007755244548979158, 0.007757153440237647, 0.00788784672455717),\n",
       " 0.25: (0.007606838552760716, 0.007616898395780751, 0.007523157190096676),\n",
       " 0.0625: (0.007673844887516511, 0.007769162105991995, 0.0077546563454638775),\n",
       " 0.015625: (0.007929341416813323, 0.00968174069410722, 0.01093161455184949)}"
      ]
     },
     "execution_count": 92,
     "metadata": {},
     "output_type": "execute_result"
    }
   ],
   "source": [
    "pac_dists"
   ]
  }
 ],
 "metadata": {
  "kernelspec": {
   "display_name": "Python 3 (ipykernel)",
   "language": "python",
   "name": "python3"
  },
  "language_info": {
   "codemirror_mode": {
    "name": "ipython",
    "version": 3
   },
   "file_extension": ".py",
   "mimetype": "text/x-python",
   "name": "python",
   "nbconvert_exporter": "python",
   "pygments_lexer": "ipython3",
   "version": "3.9.17"
  }
 },
 "nbformat": 4,
 "nbformat_minor": 5
}
